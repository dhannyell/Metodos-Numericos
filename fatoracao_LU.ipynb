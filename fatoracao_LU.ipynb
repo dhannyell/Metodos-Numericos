{
 "cells": [
  {
   "cell_type": "markdown",
   "metadata": {},
   "source": [
    "Antes de submeter esse arquivo, certifique-se de que tudo está funcionando conforme esperado. Para isso, **reinicie o Kernel** (na barra de menu, selecione Kernel$\\rightarrow$Restart) e então **execute todas as células** (na barra de menu, selecione Cell$\\rightarrow$Run All).\n",
    "\n",
    "Tenha certeza de substituir todos os lugares onde está escrito `SEU CODIGO AQUI` ou `SUA RESPOSTA AQUI` pelo seu código ou sua resposta, bem como preencher com o seu nome e a sua equipe nas variáveis abaixo:"
   ]
  },
  {
   "cell_type": "code",
   "execution_count": 1,
   "metadata": {
    "collapsed": true
   },
   "outputs": [],
   "source": [
  
   ]
  },
  {
   "cell_type": "markdown",
   "metadata": {},
   "source": [
    "---"
   ]
  },
  {
   "cell_type": "markdown",
   "metadata": {},
   "source": [
    "# Método da Decomposição LU\n",
    "Para essa parte do trabalho, usaremos o seguinte notebook jupyter:"
   ]
  },
  {
   "cell_type": "markdown",
   "metadata": {},
   "source": [
    "---\n",
    "## Parte A (26 pontos)\n",
    "\n",
    "Nessa parte você deve implementar os métodos das substituições sucessivas e o método da decomposição LU. Inicie pelo método das Substituições Sucessivas. "
   ]
  },
  {
   "cell_type": "code",
   "execution_count": 2,
   "metadata": {
    "collapsed": true,
    "deletable": false,
    "nbgrader": {
     "checksum": "320f8bb876c819da1b25b13f3449aad9",
     "grade": false,
     "grade_id": "subst_suc",
     "locked": false,
     "schema_version": 1,
     "solution": true
    }
   },
   "outputs": [],
   "source": [
    "def substituicoes_sucessivas(A, b):\n",
    "    '''Executa o método das substituições sucessivas para resolver o sistema \n",
    "       linear triangular inferior Ax=b.\n",
    "       Parâmetros de entrada: A é uma matriz triangular inferior e b é o vetor constante. \n",
    "       Saída: vetor x\n",
    "    '''\n",
    "    # ESCREVA SEU CODIGO AQUI\n",
    "    n = len(A)\n",
    "    y = n*[0]\n",
    "    for i in range(0,n,1):\n",
    "        s = sum([A[i][j]*y[j] for j in range(0,i)])\n",
    "        y[i] = (b[i]-s)/A[i][i]\n",
    "    return y"
   ]
  },
  {
   "cell_type": "markdown",
   "metadata": {},
   "source": [
    "Agora teste a sua função com o exemplo visto em sala. Ao executar a célula abaixo (lembre-se de executar a célula acima antes de executar a célula abaixo), você deve ver o seguinte resultado:\n",
    "```\n",
    "[2.0, -1.0, 5.0, 3.0]\n",
    "\n",
    "```"
   ]
  },
  {
   "cell_type": "code",
   "execution_count": 3,
   "metadata": {},
   "outputs": [
    {
     "name": "stdout",
     "output_type": "stream",
     "text": [
      "[2.0, -1.0, 5.0, 3.0]\n"
     ]
    }
   ],
   "source": [
    "A = [[2, 0, 0, 0],\n",
    "     [3, 5, 0, 0],\n",
    "     [1, -6, 8, 0],\n",
    "     [-1, 4, -3, 9]]\n",
    "b = [4, 1, 48, 6]\n",
    "x = substituicoes_sucessivas(A, b)\n",
    "print(x)"
   ]
  },
  {
   "cell_type": "code",
   "execution_count": 4,
   "metadata": {
    "collapsed": true,
    "deletable": false,
    "editable": false,
    "nbgrader": {
     "checksum": "1be611aed3a8c5af069c3febbd251896",
     "grade": true,
     "grade_id": "subst_suc_test",
     "locked": true,
     "points": 6,
     "schema_version": 1,
     "solution": false
    }
   },
   "outputs": [],
   "source": [
    "# Não modifique essa célula\n",
    "\"\"\"Verificando que a função substituicoes_sucessivas retorna a saída correta para outras entradas. \n",
    "Outros testes podem ser realizados durante a correção.\"\"\"\n",
    "A = [[3, 0, 0, 0],\n",
    "     [2, -3, 0, 0],\n",
    "     [1, 0, 5, 0],\n",
    "     [0, 2, 4, -3]]\n",
    "b = [6, 7, -8, -3]\n",
    "assert substituicoes_sucessivas(A,b) == [2.0, -1.0, -2.0, -2.3333333333333335]\n",
    "A = [[-1, 0, 0],\n",
    "     [2, 3, 0],\n",
    "     [-1, 4, -5]]\n",
    "b = [-1, 8, -8]\n",
    "assert substituicoes_sucessivas(A,b) == [1.0, 2.0, 3.0]"
   ]
  },
  {
   "cell_type": "markdown",
   "metadata": {},
   "source": [
    "Se ao executar a célula acima não acontecer nada, os testes foram executados com sucesso. Qualquer mensagem de AssertionError indica que a função está implementada de modo incorreto. \n",
    "\n",
    "## Decomposição LU\n",
    "\n",
    "Implemente uma função que decompõe uma matriz em A no produto de duas matrizes LU.\n",
    "\n",
    "Para isso, use a sua função identidade criada no notebook trab-gauss_jordan.ipynb. Copie e cole a sua função na célula abaixo:"
   ]
  },
  {
   "cell_type": "code",
   "execution_count": 5,
   "metadata": {
    "collapsed": true,
    "deletable": false,
    "nbgrader": {
     "checksum": "b0b6610fa9828f10485c4d8d343805dc",
     "grade": false,
     "grade_id": "identidade",
     "locked": false,
     "schema_version": 1,
     "solution": true
    }
   },
   "outputs": [],
   "source": [
    "def identidade(n):\n",
    "    '''Cria uma matriz identidade de ordem n.\n",
    "    Parâmetros de entrada:  n é a ordem da matriz.\n",
    "    Saída: matriz identidade de ordem n\n",
    "    '''\n",
    "    # ESCREVA SEU CODIGO AQUI\n",
    "    \n",
    "    # Criando uma matriz com zeros\n",
    "    matriz = []\n",
    "    for i in range(n):\n",
    "        linha = []\n",
    "        for j in range(n):\n",
    "            linha.append(0)\n",
    "        matriz.append(linha)\n",
    "    \n",
    "    #Criando a matriz identidade\n",
    "    for i in range(n):\n",
    "        for j in range(n):\n",
    "            if i == j:\n",
    "                matriz[i][j] = 1\n",
    "    \n",
    "    return matriz"
   ]
  },
  {
   "cell_type": "markdown",
   "metadata": {},
   "source": [
    "Agora implemente a função lu."
   ]
  },
  {
   "cell_type": "code",
   "execution_count": 6,
   "metadata": {
    "collapsed": true,
    "deletable": false,
    "nbgrader": {
     "checksum": "0b92c55f696378e36212c17a7b395d64",
     "grade": false,
     "grade_id": "lu",
     "locked": false,
     "schema_version": 1,
     "solution": true
    }
   },
   "outputs": [],
   "source": [
    "def lu(A):\n",
    "    '''\n",
    "    Decompõe a matriz A no produto de duas matrizes L e U. Onde L é uma matriz \n",
    "    triangular inferior unitária e U é uma matriz triangular superior.\n",
    "    Parâmetros de entrada: A é uma matriz quadrada de ordem n.\n",
    "    Saída: (L,U) tupla com as matrizes L e U\n",
    "    '''\n",
    "    # ESCREVA SEU CODIGO AQUI\n",
    "    n = len(A)\n",
    "    L = identidade(n)\n",
    "    U = [linha[:] for linha in A]\n",
    "    for j in range(n-1):\n",
    "        for i in range(j+1,n):\n",
    "            L[i][j] = U[i][j]/U[j][j]\n",
    "            for k in range(j+1,n):\n",
    "                U[i][k] = U[i][k] - L[i][j]*U[j][k] \n",
    "            U[i][j] = 0\n",
    "    return (L, U)\n",
    "            "
   ]
  },
  {
   "cell_type": "markdown",
   "metadata": {},
   "source": [
    "Agora teste a sua função com o exemplo visto em sala: "
   ]
  },
  {
   "cell_type": "code",
   "execution_count": 7,
   "metadata": {},
   "outputs": [
    {
     "name": "stdout",
     "output_type": "stream",
     "text": [
      "L: \n",
      "    1.000     0.000     0.000 \n",
      "   -2.000     1.000     0.000 \n",
      "    4.000     3.000     1.000 \n",
      "\n",
      "U: \n",
      "    1.000    -3.000     2.000 \n",
      "    0.000     2.000     3.000 \n",
      "    0.000     0.000   -12.000 \n",
      "\n"
     ]
    }
   ],
   "source": [
    "def formata_matriz(M):\n",
    "    m = len(M) # número de linhas\n",
    "    n = len(M[0]) # número de colunas\n",
    "    s = \"\"\n",
    "    for i in range(m):\n",
    "        for j in range(n):\n",
    "           s += \"%9.3f \" % M[i][j]\n",
    "        s += \"\\n\"\n",
    "    return s\n",
    "\n",
    "A = [[1, -3, 2],\n",
    "     [-2, 8, -1],\n",
    "     [4, -6, 5]]\n",
    "(L, U) = lu(A)\n",
    "print(\"L: \\n%s\" % formata_matriz(L))\n",
    "print(\"U: \\n%s\" % formata_matriz(U))"
   ]
  },
  {
   "cell_type": "markdown",
   "metadata": {},
   "source": [
    "Ao executar a célula acima, você deve ver o seguinte resultado:\n",
    "\n",
    "```\n",
    "L: \n",
    "    1.000     0.000     0.000 \n",
    "   -2.000     1.000     0.000 \n",
    "    4.000     3.000     1.000 \n",
    "\n",
    "U: \n",
    "    1.000    -3.000     2.000 \n",
    "    0.000     2.000     3.000 \n",
    "    0.000     0.000   -12.000 \n",
    "```"
   ]
  },
  {
   "cell_type": "code",
   "execution_count": 8,
   "metadata": {
    "collapsed": true,
    "deletable": false,
    "editable": false,
    "nbgrader": {
     "checksum": "854e85821dd1e540fdcc10b85e9b8449",
     "grade": true,
     "grade_id": "lu_test",
     "locked": true,
     "points": 10,
     "schema_version": 1,
     "solution": false
    }
   },
   "outputs": [],
   "source": [
    "# Não modifique essa célula\n",
    "\"\"\"Verificando que a função lu retorna a saída correta para outras entradas. Note que outros \n",
    "testes podem ser feitos durante a correção\"\"\"\n",
    "A1 = [[1, -3, 2],\n",
    "     [-2, 8, -1],\n",
    "     [4, -6, 5]]\n",
    "assert lu(A1) == ([[1, 0, 0], [-2.0, 1, 0], [4.0, 3.0, 1]], [[1, -3, 2], [0, 2.0, 3.0], [0, 0, -12.0]])\n",
    "A1 = [[6, -2, 2, 4],\n",
    "     [12, -8, 6, 10],\n",
    "     [3, -13, 9, 3],\n",
    "     [-6, 4, 1, -18]]\n",
    "assert lu(A1) == ([[1, 0, 0, 0], [2.0, 1, 0, 0], [0.5, 3.0, 1, 0], [-1.0, -0.5, 2.0, 1]], [[6, -2, 2, 4], [0, -4.0, 2.0, 2.0], [0, 0, 2.0, -5.0], [0, 0, 0, -3.0]])\n"
   ]
  },
  {
   "cell_type": "markdown",
   "metadata": {},
   "source": [
    "Se ao executar a célula acima não acontecer nada, os testes foram executados com sucesso. Qualquer mensagem de AssertionError indica que a função está implementada de modo incorreto.\n",
    "\n",
    "### Resolução de sistema linear usando decomposição LU\n",
    "\n",
    "Na célula abaixo, copie e cole a função `substituicoes_retroativas` implementada no notebook `trab-gauss.ipynb`."
   ]
  },
  {
   "cell_type": "code",
   "execution_count": 9,
   "metadata": {
    "collapsed": true,
    "deletable": false,
    "nbgrader": {
     "checksum": "b3a4cbf165bdc9ed3eefbe3c76594e56",
     "grade": false,
     "grade_id": "subst_retro",
     "locked": false,
     "schema_version": 1,
     "solution": true
    }
   },
   "outputs": [],
   "source": [
    "def substituicoes_retroativas(A, b):\n",
    "    '''Executa o método das substituições retroativas para resolver o sistema \n",
    "       linear triangular superior Ax=b.\n",
    "       Parâmetros de entrada: A é uma matriz triangular superior e b é o vetor constante. \n",
    "    '''\n",
    "    # ESCREVA SEU CODIGO AQUI\n",
    "    n = len(A)\n",
    "    y = n*[0]\n",
    "    for i in range(n-1,-1,-1):\n",
    "        s = sum([A[i][j]*y[j] for j in range(i+1,n)])\n",
    "        y[i] = (b[i]-s)/A[i][i]\n",
    "    return y"
   ]
  },
  {
   "cell_type": "markdown",
   "metadata": {},
   "source": [
    "Agora implemente a função **resolve_lu(A,b)**."
   ]
  },
  {
   "cell_type": "code",
   "execution_count": 10,
   "metadata": {
    "collapsed": true,
    "deletable": false,
    "nbgrader": {
     "checksum": "d4b424290aa167f9b26085443b3a3b7e",
     "grade": false,
     "grade_id": "resolve_lu",
     "locked": false,
     "schema_version": 1,
     "solution": true
    }
   },
   "outputs": [],
   "source": [
    "def resolve_lu(A,b):\n",
    "    '''\n",
    "    Executa o método LU para resolver o sistema  linear Ax=b.\n",
    "    Esse método inicialmente decompõe a matriz em L e U e depois resolve os \n",
    "    dois sistemas lineares triangulares.\n",
    "    Parâmetros de entrada: A é uma matriz quadrada de ordem n e b é o vetor constante.\n",
    "    Saída: vetor x solução do sistema.\n",
    "    '''\n",
    "    # ESCREVA SEU CODIGO AQUI\n",
    "    (L, U) = lu(A)\n",
    "    # Ly = b\n",
    "    y = substituicoes_sucessivas(L, b)\n",
    "    # Ux = y\n",
    "    x = substituicoes_retroativas(U, y)\n",
    "    return x\n",
    "    "
   ]
  },
  {
   "cell_type": "markdown",
   "metadata": {},
   "source": [
    "Agora teste a sua função com o exemplo visto em sala. Ao executar a célula abaixo (lembre-se de executar as células acima antes de executar a célula abaixo), você deve ver o seguinte resultado:\n",
    "\n",
    "```[2.0, -1.0, 3.0]```"
   ]
  },
  {
   "cell_type": "code",
   "execution_count": 11,
   "metadata": {},
   "outputs": [
    {
     "name": "stdout",
     "output_type": "stream",
     "text": [
      "[2.0, -1.0, 3.0]\n"
     ]
    }
   ],
   "source": [
    "A = [[1, -3, 2],\n",
    "     [-2, 8, -1],\n",
    "     [4, -6, 5]]\n",
    "b = [11, -15, 29]\n",
    "x = resolve_lu(A,b)\n",
    "print(x)"
   ]
  },
  {
   "cell_type": "code",
   "execution_count": 12,
   "metadata": {
    "collapsed": true,
    "deletable": false,
    "editable": false,
    "nbgrader": {
     "checksum": "459420ec0f2fd6bc1ac621b97384a43f",
     "grade": true,
     "grade_id": "resolve_lu_test",
     "locked": true,
     "points": 10,
     "schema_version": 1,
     "solution": false
    }
   },
   "outputs": [],
   "source": [
    "# Não modifique essa célula\n",
    "\"\"\"Verificando que a função resolve_lu retorna a saída correta para outras entradas. Note que outros \n",
    "testes podem ser feitos durante a correção\"\"\"\n",
    "A1 = [[1, -3, 2],\n",
    "     [-2, 8, -1],\n",
    "     [4, -6, 5]]\n",
    "b1 = [11, -15, 29]\n",
    "assert resolve_lu(A1, b1) == [2.0, -1.0, 3.0]\n",
    "\n",
    "A1 = [[6, -2, 2, 4],\n",
    "     [12, -8, 6, 10],\n",
    "     [3, -13, 9, 3],\n",
    "     [-6, 4, 1, -18]]\n",
    "b1 = [16, 26, -19, -34]\n",
    "assert resolve_lu(A1, b1) == [3.0, 1.0, -2.0, 1.0]\n"
   ]
  },
  {
   "cell_type": "markdown",
   "metadata": {},
   "source": [
    "Se ao executar a célula acima não acontecer nada, os testes foram executados com sucesso. Qualquer mensagem de **`AssertionError`** indica que a função está implementada de modo incorreto."
   ]
  },
  {
   "cell_type": "markdown",
   "metadata": {},
   "source": [
    "---\n",
    "## Parte B (10 pontos)\n",
    "\n",
    "![Figura 1: O problema dos reatores](https://emanueles.github.io/metodos/images/reatores.png)\n",
    "\n",
    "\n",
    "A figura 1 mostra cinco reatores conectados por tubos. A razão de fluxo de massa através de cada tubo é calculada como o produto de fluxo (Q) por concentração (c). Num estado estável, o fluxo de massa entrando e saindo de um reator deve ser o mesmo. Por exemplo, para o primeiro reator o equilíbrio de massa pode ser escrito como $Q_{01}c_{01} + Q_{31}c_3 = Q_{15}c_1 + Q_{12}c_1$. Escreva as equações de equilíbrio de massa para os demais reatores e calcule as concentrações em cada reator utilizando a sua função `resolve_lu`.  "
   ]
  },
  {
   "cell_type": "code",
   "execution_count": 13,
   "metadata": {
    "deletable": false,
    "nbgrader": {
     "checksum": "54eaa13dc36dd21afb6edfef32440218",
     "grade": false,
     "grade_id": "reatores",
     "locked": false,
     "schema_version": 1,
     "solution": true
    }
   },
   "outputs": [
    {
     "name": "stdout",
     "output_type": "stream",
     "text": [
      "[28.4, 28.4, 45.199999999999996, 39.599999999999994, 28.400000000000002]\n"
     ]
    }
   ],
   "source": [
    "## Defina a sua matriz A e o vetor b e chame a sua função resolve_lu. \n",
    "## Guarde o resultado na variável x\n",
    "# ESCREVA SEU CODIGO AQUI\n",
    "# Reator 1 - Q01c01 + Q31c3 = Q15c1 + Q12c1  // 9c1 - 3c3 = 120\n",
    "# Reator 2 - Q12c1 = Q23c2 + Q24c2 + Q25c2   // 4c1 - 4c2 = 0\n",
    "# Reator 3 - Q03c03 + Q23c2 = Q31c3 + Q34c3  // 2c2 - 9c3 = -350\n",
    "# Reator 4 - Q24c2 + Q34c3 + Q54c5 = Q44c4   // c2 + 6c3 - 9c4 + 2c5 = 0\n",
    "# Reator 5 - Q15c1 + Q25c2 = Q54c5 + Q55c5   // 5c1 + c2 - 6c5 = 0\n",
    "A = [[9,0,-3,0,0],\n",
    "    [4,-4,0,0,0],\n",
    "    [0,2,-9,0,0],\n",
    "    [0,1,6,-9,2],\n",
    "    [5,1,0,0,-6]]\n",
    "b = [120,0,-350,0,0]\n",
    "x = resolve_lu(A,b)\n",
    "print(x)"
   ]
  },
  {
   "cell_type": "code",
   "execution_count": 14,
   "metadata": {
    "collapsed": true,
    "deletable": false,
    "editable": false,
    "nbgrader": {
     "checksum": "12d5e6a4dcdb7f3d83edf70ebd0c259e",
     "grade": true,
     "grade_id": "reatores_test",
     "locked": true,
     "points": 10,
     "schema_version": 1,
     "solution": false
    }
   },
   "outputs": [],
   "source": [
    "## Verificação da sua resposta. Não modifique essa célula. \n",
    "## Certifique-se de que a célula acima foi executada logo antes de executar essa célula"
   ]
  }
 ],
 "metadata": {
  "kernelspec": {
   "display_name": "Python 3",
   "language": "python",
   "name": "python3"
  },
  "language_info": {
   "codemirror_mode": {
    "name": "ipython",
    "version": 3
   },
   "file_extension": ".py",
   "mimetype": "text/x-python",
   "name": "python",
   "nbconvert_exporter": "python",
   "pygments_lexer": "ipython3",
   "version": "3.5.2"
  }
 },
 "nbformat": 4,
 "nbformat_minor": 1
}
