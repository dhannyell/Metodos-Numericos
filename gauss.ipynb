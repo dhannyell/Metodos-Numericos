{
 "cells": [
  {
   "cell_type": "markdown",
   "metadata": {},
   "source": [
    "Antes de submeter esse arquivo, certifique-se de que tudo está funcionando conforme esperado. Para isso, **reinicie o Kernel** (na barra de menu, selecione Kernel$\\rightarrow$Restart) e então **execute todas as células** (na barra de menu, selecione Cell$\\rightarrow$Run All).\n",
    "\n",
    "Tenha certeza de substituir todos os lugares onde está escrito `SEU CODIGO AQUI` ou `SUA RESPOSTA AQUI` pelo seu código ou sua resposta, bem como preencher com o seu nome e a sua equipe nas variáveis abaixo:"
   ]
  },
  {
   "cell_type": "code",
   "execution_count": 1,
   "metadata": {
    "collapsed": true
   },
   "outputs": [],
   "source": [
   ]
  },
  {
   "cell_type": "markdown",
   "metadata": {},
   "source": [
    "---"
   ]
  },
  {
   "cell_type": "markdown",
   "metadata": {},
   "source": [
    "# Método de Gauss\n",
    "Para essa parte do trabalho, usaremos o seguinte notebook jupyter:"
   ]
  },
  {
   "cell_type": "markdown",
   "metadata": {},
   "source": [
    "---\n",
    "## Parte A (22 pontos)\n",
    "\n",
    "Nessa parte você deve implementar os métodos das substituições retroativas, da Eliminação de Gauss e da Eliminação de Gauss modificado para retornar o determinante da matriz dos coeficientes. Inicie pelo método das Substituições Retroativas. "
   ]
  },
  {
   "cell_type": "code",
   "execution_count": 2,
   "metadata": {
    "collapsed": true,
    "deletable": false,
    "nbgrader": {
     "checksum": "b3a4cbf165bdc9ed3eefbe3c76594e56",
     "grade": false,
     "grade_id": "subst_retro",
     "locked": false,
     "schema_version": 1,
     "solution": true
    }
   },
   "outputs": [],
   "source": [
    "def substituicoes_retroativas(A, b):\n",
    "    n = len(A)\n",
    "    y = n*[0]\n",
    "    for i in range(n-1,-1,-1):\n",
    "        s = sum([A[i][j]*y[j] for j in range(i+1,n)])\n",
    "        y[i] = (b[i] - s )/A[i][i]\n",
    "    return y"
   ]
  },
  {
   "cell_type": "markdown",
   "metadata": {},
   "source": [
    "Agora teste a sua função com o exemplo visto em sala. Ao executar a célula abaixo (lembre-se de executar a célula acima antes de executar a célula abaixo), você deve ver o seguinte resultado:\n",
    "```\n",
    "[-3.0, 0.0, 2.0, 4.0]\n",
    "```"
   ]
  },
  {
   "cell_type": "code",
   "execution_count": 3,
   "metadata": {},
   "outputs": [
    {
     "name": "stdout",
     "output_type": "stream",
     "text": [
      "[-3.0, 0.0, 2.0, 4.0]\n"
     ]
    }
   ],
   "source": [
    "A = [[5, -2, 6, 1],\n",
    "      [0, 3, 7, -4],\n",
    "      [0, 0, 4, 5],\n",
    "      [0, 0, 0, 2]]\n",
    "b = [1, -2, 28, 8]\n",
    "x = substituicoes_retroativas(A,b)\n",
    "print(x)"
   ]
  },
  {
   "cell_type": "code",
   "execution_count": 4,
   "metadata": {
    "collapsed": true,
    "deletable": false,
    "editable": false,
    "nbgrader": {
     "checksum": "eb3ae7d35878be54f403bf4f04db38ae",
     "grade": true,
     "grade_id": "subst_retro_test",
     "locked": true,
     "points": 6,
     "schema_version": 1,
     "solution": false
    }
   },
   "outputs": [],
   "source": [
    "# Não modifique essa célula\n",
    "\"\"\"Verificando que a função substituicoes_retroativas retorna a saída correta para outras entradas. \n",
    "Outros testes podem ser realizados durante a correção.\"\"\"\n",
    "A = [[5, -2, 6, 1],\n",
    "      [0, 3, 7, -4],\n",
    "      [0, 0, 4, 5],\n",
    "      [0, 0, 0, 2]]\n",
    "b = [1, -2, 28, 8]\n",
    "assert substituicoes_retroativas(A,b) == [-3.0, 0.0, 2.0, 4.0]\n",
    "A = [[2, 2, 3, 4],\n",
    "     [0, 5, 6, 7],\n",
    "     [0, 0, 8, 9],\n",
    "     [0, 0, 0, 10]]\n",
    "b = [20, 34, 25, 10]\n",
    "assert substituicoes_retroativas(A,b) == [2.0, 3.0, 2.0, 1.0]\n",
    "A = [[-1, 2, -1],\n",
    "     [0, 3, 6],\n",
    "     [0, 0, -5]]\n",
    "b = [0, 24, -15]\n",
    "assert substituicoes_retroativas(A,b) == [1.0, 2.0, 3.0]\n"
   ]
  },
  {
   "cell_type": "markdown",
   "metadata": {},
   "source": [
    "Se ao executar a célula acima não acontecer nada, os testes foram executados com sucesso. Qualquer mensagem de AssertionError indica que a função está implementada de modo incorreto. \n",
    "\n",
    "Agora implemente o método da eliminação de Gauss."
   ]
  },
  {
   "cell_type": "code",
   "execution_count": 5,
   "metadata": {
    "collapsed": true,
    "deletable": false,
    "nbgrader": {
     "checksum": "9dd26b6311574f881bbcf0164f530c64",
     "grade": false,
     "grade_id": "gauss",
     "locked": false,
     "schema_version": 1,
     "solution": true
    }
   },
   "outputs": [],
   "source": [
    "def gauss(A, b):\n",
    "    n = len(A)\n",
    "    for i in range(0,n):\n",
    "        for j in range(i+1,n):\n",
    "            fatorm = A[j][i]/A[i][i]\n",
    "            for aux in range(n):\n",
    "                A[j][aux]=A[j][aux] - fatorm*A[i][aux]\n",
    "            b[j] = b[j] - fatorm*b[i]\n",
    "    x = substituicoes_retroativas(A,b)\n",
    "    return (x)"
   ]
  },
  {
   "cell_type": "markdown",
   "metadata": {},
   "source": [
    "Agora teste a sua função com o exemplo visto em sala. Ao executar a célula abaixo (lembre-se de executar a célula acima antes de executar a célula abaixo), você deve ver o seguinte resultado:\n",
    "\n",
    "```[2.0, -1.0, 3.0]```"
   ]
  },
  {
   "cell_type": "code",
   "execution_count": 6,
   "metadata": {},
   "outputs": [
    {
     "name": "stdout",
     "output_type": "stream",
     "text": [
      "[2.0, -1.0, 3.0]\n"
     ]
    }
   ],
   "source": [
    "A1 = [[1, -3, 2],\n",
    "     [-2, 8, -1],\n",
    "     [4, -6, 5]]\n",
    "b1 = [11, -15, 29]\n",
    "x = gauss(A1, b1)\n",
    "print(x)"
   ]
  },
  {
   "cell_type": "code",
   "execution_count": 7,
   "metadata": {
    "collapsed": true,
    "deletable": false,
    "editable": false,
    "nbgrader": {
     "checksum": "342831089f28fe9e1242fa01b722844c",
     "grade": true,
     "grade_id": "gauss_test",
     "locked": true,
     "points": 9,
     "schema_version": 1,
     "solution": false
    }
   },
   "outputs": [],
   "source": [
    "# Não modifique essa célula\n",
    "\"\"\"Verificando que a função gauss retorna a saída correta para outras entradas. Note que outros \n",
    "testes podem ser feitos durante a correção\"\"\"\n",
    "A1 = [[1, -3, 2],\n",
    "     [-2, 8, -1],\n",
    "     [4, -6, 5]]\n",
    "b1 = [11, -15, 29]\n",
    "assert gauss(A1, b1) == [2.0, -1.0, 3.0]\n",
    "A1 = [[6, -2, 2, 4],\n",
    "     [12, -8, 6, 10],\n",
    "     [3, -13, 9, 3],\n",
    "     [-6, 4, 1, -18]]\n",
    "b1 = [16, 26, -19, -34]\n",
    "assert gauss(A1, b1) == [3.0, 1.0, -2.0, 1.0]"
   ]
  },
  {
   "cell_type": "markdown",
   "metadata": {},
   "source": [
    "Se ao executar a célula acima não acontecer nada, os testes foram executados com sucesso. Qualquer mensagem de AssertionError indica que a função está implementada de modo incorreto.\n",
    "\n",
    "Agora implemente o método da eliminação de Gauss modificado para retornar também o determinante da matriz dos coeficientes."
   ]
  },
  {
   "cell_type": "code",
   "execution_count": 8,
   "metadata": {
    "collapsed": true,
    "deletable": false,
    "nbgrader": {
     "checksum": "948a081695546e42c114da7711655021",
     "grade": false,
     "grade_id": "gauss_det",
     "locked": false,
     "schema_version": 1,
     "solution": true
    }
   },
   "outputs": [],
   "source": [
    "def gauss_det(A, b):\n",
    "    det = 1\n",
    "    n = len(A)\n",
    "    for i in range(0,n):\n",
    "        det *= A[i][i]\n",
    "        for j in range(i+1,n):\n",
    "            fatorm = A[j][i]/A[i][i]\n",
    "            for aux in range(n):\n",
    "                A[j][aux]=A[j][aux] - fatorm*A[i][aux]\n",
    "            b[j] = b[j] - fatorm*b[i]\n",
    "    x = substituicoes_retroativas(A,b)\n",
    "    return (x,det)"
   ]
  },
  {
   "cell_type": "markdown",
   "metadata": {},
   "source": [
    "Agora teste a sua função com o exemplo visto em sala. Ao executar a célula abaixo (lembre-se de executar a célula acima antes de executar a célula abaixo), você deve ver o seguinte resultado:\n",
    "\n",
    "```[2.0, -1.0, 3.0] -24.0```"
   ]
  },
  {
   "cell_type": "code",
   "execution_count": 9,
   "metadata": {},
   "outputs": [
    {
     "name": "stdout",
     "output_type": "stream",
     "text": [
      "[2.0, -1.0, 3.0] -24.0\n"
     ]
    }
   ],
   "source": [
    "A1 = [[1, -3, 2],\n",
    "     [-2, 8, -1],\n",
    "     [4, -6, 5]]\n",
    "b1 = [11, -15, 29]\n",
    "(x, det) = gauss_det(A1, b1)\n",
    "print(x, det)"
   ]
  },
  {
   "cell_type": "code",
   "execution_count": 10,
   "metadata": {
    "collapsed": true,
    "deletable": false,
    "editable": false,
    "nbgrader": {
     "checksum": "f163ff41ca24641aeeb005cd69c53528",
     "grade": true,
     "grade_id": "gauss_det_test",
     "locked": true,
     "points": 7,
     "schema_version": 1,
     "solution": false
    }
   },
   "outputs": [],
   "source": [
    "# Não modifique essa célula\n",
    "\"\"\"Verificando que a função gauss retorna a saída correta para outras entradas. Note que outros \n",
    "testes podem ser feitos durante a correção\"\"\"\n",
    "A1 = [[1, -3, 2],\n",
    "     [-2, 8, -1],\n",
    "     [4, -6, 5]]\n",
    "b1 = [11, -15, 29]\n",
    "assert gauss_det(A1, b1) == ([2.0, -1.0, 3.0], -24.0)\n",
    "\n",
    "A1 = [[6, -2, 2, 4],\n",
    "     [12, -8, 6, 10],\n",
    "     [3, -13, 9, 3],\n",
    "     [-6, 4, 1, -18]]\n",
    "b1 = [16, 26, -19, -34]\n",
    "assert gauss_det(A1, b1) == ([3.0, 1.0, -2.0, 1.0], 144.0)\n"
   ]
  },
  {
   "cell_type": "markdown",
   "metadata": {},
   "source": [
    "Se ao executar a célula acima não acontecer nada, os testes foram executados com sucesso. Qualquer mensagem de AssertionError indica que a função está implementada de modo incorreto."
   ]
  },
  {
   "cell_type": "markdown",
   "metadata": {},
   "source": [
    "---\n",
    "## Parte B (10 pontos)\n",
    "\n",
    "![Figura 1: O problema dos reatores](https://emanueles.github.io/metodos/images/reatores.png)\n",
    "\n",
    "\n",
    "A figura 1 mostra cinco reatores conectados por tubos. A razão de fluxo de massa através de cada tubo é calculada como o produto de fluxo (Q) por concentração (c). Num estado estável, o fluxo de massa entrando e saindo de um reator deve ser o mesmo. Por exemplo, para o primeiro reator o equilíbrio de massa pode ser escrito como $Q_{01}c_{01} + Q_{31}c_3 = Q_{15}c_1 + Q_{12}c_1$. Escreva as equações de equilíbrio de massa para os demais reatores e calcule as concentrações em cada reator utilizando a sua função `gauss`.  "
   ]
  },
  {
   "cell_type": "code",
   "execution_count": 11,
   "metadata": {
    "deletable": false,
    "nbgrader": {
     "checksum": "66640c92eadfc663831e808615ac9c07",
     "grade": false,
     "grade_id": "reatores",
     "locked": false,
     "schema_version": 1,
     "solution": true
    }
   },
   "outputs": [
    {
     "name": "stdout",
     "output_type": "stream",
     "text": [
      "[28.4, 28.4, 45.199999999999996, 39.599999999999994, 28.400000000000002]\n"
     ]
    }
   ],
   "source": [
    "A = [[9 , 0 , -3 , 0 , 0],\n",
    "     [-4 , 4 , 0 , 0 , 0],\n",
    "     [0 , -2 , 9 , 0, 0],\n",
    "     [0 , 1 , 6 , -9 , 2],\n",
    "     [5 , 1 , 0 , 0 , -6]]\n",
    "b = [120 , 0 , 350 , 0 , 0]\n",
    "x = gauss(A,b)\n",
    "print(x)"
   ]
  },
  {
   "cell_type": "code",
   "execution_count": 12,
   "metadata": {
    "collapsed": true,
    "deletable": false,
    "editable": false,
    "nbgrader": {
     "checksum": "12d5e6a4dcdb7f3d83edf70ebd0c259e",
     "grade": true,
     "grade_id": "reatores_test",
     "locked": true,
     "points": 10,
     "schema_version": 1,
     "solution": false
    }
   },
   "outputs": [],
   "source": [
    "## Verificação da sua resposta. Não modifique essa célula. \n",
    "## Certifique-se de que a célula acima foi executada logo antes de executar essa célula"
   ]
  }
 ],
 "metadata": {
  "kernelspec": {
   "display_name": "Python 3",
   "language": "python",
   "name": "python3"
  },
  "language_info": {
   "codemirror_mode": {
    "name": "ipython",
    "version": 3
   },
   "file_extension": ".py",
   "mimetype": "text/x-python",
   "name": "python",
   "nbconvert_exporter": "python",
   "pygments_lexer": "ipython3",
   "version": "3.5.2"
  }
 },
 "nbformat": 4,
 "nbformat_minor": 1
}
