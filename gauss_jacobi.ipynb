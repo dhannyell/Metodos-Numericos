{
 "cells": [
  {
   "cell_type": "markdown",
   "metadata": {},
   "source": [
    "Antes de submeter esse arquivo, certifique-se de que tudo está funcionando conforme esperado. Para isso, **reinicie o Kernel** (na barra de menu, selecione Kernel$\\rightarrow$Restart) e então **execute todas as células** (na barra de menu, selecione Cell$\\rightarrow$Run All).\n",
    "\n",
    "Tenha certeza de substituir todos os lugares onde está escrito `SEU CODIGO AQUI` ou `SUA RESPOSTA AQUI` pelo seu código ou sua resposta, bem como preencher com o seu nome e a sua equipe nas variáveis abaixo:"
   ]
  },
  {
   "cell_type": "code",
   "execution_count": 1,
   "metadata": {
    "collapsed": true
   },
   "outputs": [],
   "source": [
    "NOME = \"Matheus dos Santos Bastos\"\n",
    "EQUIPE = \"Equipe 05\""
   ]
  },
  {
   "cell_type": "markdown",
   "metadata": {},
   "source": [
    "---"
   ]
  },
  {
   "cell_type": "markdown",
   "metadata": {},
   "source": [
    "# Método de Gauss-Jacobi\n",
    "Para essa parte do trabalho, usaremos o seguinte notebook jupyter:"
   ]
  },
  {
   "cell_type": "markdown",
   "metadata": {},
   "source": [
    "---\n",
    "## Parte A (22 pontos)\n",
    "\n",
    "Nessa parte você deve implementar o método de Gauss-Jacobi. Antes disso, você precisa implementar a função `norma` para calcular a norma de vetores."
   ]
  },
  {
   "cell_type": "code",
   "execution_count": 2,
   "metadata": {
    "collapsed": true,
    "deletable": false,
    "nbgrader": {
     "checksum": "6932bb60e3ba8643ca212a978b476338",
     "grade": false,
     "grade_id": "norma",
     "locked": false,
     "schema_version": 1,
     "solution": true
    }
   },
   "outputs": [],
   "source": [
    "def norma(v,x):\n",
    "    \"\"\"Calcula a norma entre dois vetores v e x.\n",
    "    \"\"\"\n",
    "    n = len(v)\n",
    "    \n",
    "    num = 0\n",
    "    den = 0\n",
    "    z = 0\n",
    "    \n",
    "    while z < n:\n",
    "        difNum = abs(v[z] - x[z])\n",
    "        \n",
    "        if difNum > num:\n",
    "            num = difNum\n",
    "        if abs(v[z]) > den:\n",
    "            den = abs(v[z])\n",
    "            \n",
    "        z += 1\n",
    "    \n",
    "    return num/den"
   ]
  },
  {
   "cell_type": "markdown",
   "metadata": {},
   "source": [
    "Agora precisamos testar se a função está implementada corretamente. Iremos usar o exemplo mostrado em sala.\n",
    "\n",
    "$x^{(0)} = \\left(\\begin{array}{r}\n",
    "0.7\\\\\n",
    "-1.6\\\\\n",
    "0.6\\\\\n",
    "\\end{array}\\right)\\ e\\ x^{(1)}= \\left(\\begin{array}{r}\n",
    "0.96\\\\\n",
    "-1.86\\\\\n",
    "0.94\\\\\n",
    "\\end{array}\\right) $\n",
    "\n",
    "Ao executar a célula abaixo, você deverá ver o seguinte resultado:\n",
    "```\n",
    "0.18279569892473116\n",
    "```"
   ]
  },
  {
   "cell_type": "code",
   "execution_count": 3,
   "metadata": {},
   "outputs": [
    {
     "name": "stdout",
     "output_type": "stream",
     "text": [
      "0.18279569892473116\n"
     ]
    }
   ],
   "source": [
    "x0 = [0.7, -1.6, 0.6]\n",
    "x1 = [0.96, -1.86, 0.94]\n",
    "d = norma(x1,x0)\n",
    "print(d)"
   ]
  },
  {
   "cell_type": "code",
   "execution_count": 4,
   "metadata": {
    "collapsed": true,
    "deletable": false,
    "editable": false,
    "nbgrader": {
     "checksum": "9e7fce96e6b61bd804831d87019f9977",
     "grade": true,
     "grade_id": "norma_test",
     "locked": true,
     "points": 10,
     "schema_version": 1,
     "solution": false
    }
   },
   "outputs": [],
   "source": [
    "# Não modifique essa célula\n",
    "\"\"\"Verificando que a função norma retorna a saída correta para outras entradas. \n",
    "Outros testes podem ser realizados durante a correção.\"\"\"\n",
    "\n",
    "x0 = [0, 0, 0, 0]\n",
    "x1 = [2, 3, 4, 5]\n",
    "assert norma(x1,x0) == 1.0\n",
    "\n",
    "x0 = [0.7, -1.6, 0.6]\n",
    "x1 = [0.96, -1.86, 0.94]\n",
    "assert norma(x1,x0) == 0.18279569892473116\n"
   ]
  },
  {
   "cell_type": "markdown",
   "metadata": {},
   "source": [
    "Se ao executar a célula acima não acontecer nada, os testes foram executados com sucesso. Qualquer mensagem de **`AssertionError`** indica que a função está implementada de modo incorreto. \n",
    "\n",
    "Agora implemente o método da eliminação de Gauss-Jacobi."
   ]
  },
  {
   "cell_type": "code",
   "execution_count": 5,
   "metadata": {
    "collapsed": true,
    "deletable": false,
    "nbgrader": {
     "checksum": "b9d6654cba7d00866ed89ae96aff0ed8",
     "grade": false,
     "grade_id": "jacobi",
     "locked": false,
     "schema_version": 1,
     "solution": true
    }
   },
   "outputs": [],
   "source": [
    "def jacobi(A, b, epsilon, iterMax=50):\n",
    "    \"\"\"Resolve o sistema linear Ax=b usando o método iterativo Gauss-Jacobi.\n",
    "    O critério de parada utiliza a norma-infinito.\n",
    "    Saída é o vetor x.\n",
    "    \n",
    "    \"\"\"\n",
    "    n = len(A)\n",
    "    x = n * [0]\n",
    "    v = n * [0]\n",
    "    k = 0\n",
    "    l = 0\n",
    "    \n",
    "    while l < n:\n",
    "        x[l] = b[l]/A[l][l]\n",
    "        l += 1\n",
    "    \n",
    "    for c in range(0,n):\n",
    "        for d in range(0,n):\n",
    "            if c!= d:\n",
    "                A[c][d] = A[c][d]/A[c][c]\n",
    "        \n",
    "        b[c] = b[c]/A[c][c]\n",
    "        A[c][c] = 0 \n",
    "\n",
    "    while k < iterMax:\n",
    "        i = 0\n",
    "        j = 0\n",
    "    \n",
    "        while i < n:\n",
    "            AxSum = 0\n",
    "            cont = 0\n",
    "            \n",
    "            while cont < n:\n",
    "                if cont != i:\n",
    "                    AxSum += -1 * A[i][cont] * x[cont]\n",
    "                    \n",
    "                cont += 1\n",
    "        \n",
    "            v[i] = (b[i] + AxSum)\n",
    "            i += 1\n",
    "        \n",
    "        d = norma(v,x)\n",
    "    \n",
    "        if d < epsilon:\n",
    "            return v\n",
    "        \n",
    "        while j < n:\n",
    "            x[j] = v[j]\n",
    "            j += 1\n",
    "        \n",
    "        k += 1\n",
    "    print(\"Erro: Limite de iterações atingido!\")\n",
    "    return(x)"
   ]
  },
  {
   "cell_type": "markdown",
   "metadata": {},
   "source": [
    "Agora teste a sua função com o exemplo visto em sala. Ao executar a célula abaixo (lembre-se de executar a célula acima antes de executar a célula abaixo), você deve ver o seguinte resultado:\n",
    "\n",
    "```[0.9994, -1.9888000000000001, 0.9984]```"
   ]
  },
  {
   "cell_type": "code",
   "execution_count": 6,
   "metadata": {},
   "outputs": [
    {
     "name": "stdout",
     "output_type": "stream",
     "text": [
      "[0.9994, -1.9888000000000001, 0.9984]\n"
     ]
    }
   ],
   "source": [
    "A = [[10, 2 ,1],\n",
    "     [1, 5, 1],\n",
    "     [2, 3, 10]]\n",
    "b = [7, -8, 6]\n",
    "eps = 0.05\n",
    "x = jacobi(A,b,eps)\n",
    "print(x)"
   ]
  },
  {
   "cell_type": "code",
   "execution_count": 7,
   "metadata": {
    "deletable": false,
    "editable": false,
    "nbgrader": {
     "checksum": "8ff27d4650c6d56c88ab3c8fd46f42fc",
     "grade": true,
     "grade_id": "jacobi_test",
     "locked": true,
     "points": 12,
     "schema_version": 1,
     "solution": false
    }
   },
   "outputs": [
    {
     "name": "stdout",
     "output_type": "stream",
     "text": [
      "Erro: Limite de iterações atingido!\n"
     ]
    }
   ],
   "source": [
    "# Não modifique essa célula\n",
    "\"\"\"Verificando que a função jacobi retorna a saída correta para outras entradas. Note que outros \n",
    "testes podem ser feitos durante a correção\"\"\"\n",
    "A1 = [[10, 2 ,1],\n",
    "     [1, 5, 1],\n",
    "     [2, 3, 10]]\n",
    "b1 = [7, -8, 6]\n",
    "eps = 0.00001\n",
    "assert jacobi(A1, b1, eps) == [1.000001683824, -1.999997692128, 1.0000024307039999]\n",
    "A1 = [[10, 3 ,-2],\n",
    "     [2, 8, -1],\n",
    "     [1, 1, 5]]\n",
    "b1 = [57, 20, -4]\n",
    "eps = 0.00001\n",
    "assert jacobi(A1, b1, eps) == [5.0000014097125005, 1.00000782225, -1.9999973479000002]\n",
    "\n",
    "# testando divergência\n",
    "# jacobi deve retornar a última raiz calculada quando o método divergir\n",
    "A1 = [[6, -2, 2, 4],\n",
    "     [12, -8, 6, 10],\n",
    "     [3, -13, 9, 3],\n",
    "     [-6, 4, 1, -18]]\n",
    "b1 = [16, 26, -19, -34]\n",
    "eps = 0.001\n",
    "assert jacobi(A1, b1, eps, 10) == [175.65036337449033, -366.97874928422397, 352.90185246106375, 69.3964852217211]"
   ]
  },
  {
   "cell_type": "markdown",
   "metadata": {},
   "source": [
    "Se ao executar a célula acima não acontecer nada, os testes foram executados com sucesso. Qualquer mensagem de **`AssertionError`** indica que a função está implementada de modo incorreto."
   ]
  },
  {
   "cell_type": "markdown",
   "metadata": {},
   "source": [
    "---\n",
    "## Parte B (10 pontos)\n",
    "\n",
    "![Figura 1: O problema dos reatores](https://emanueles.github.io/metodos/images/reatores.png)\n",
    "\n",
    "\n",
    "A figura 1 mostra cinco reatores conectados por tubos. A razão de fluxo de massa através de cada tubo é calculada como o produto de fluxo (Q) por concentração (c). Num estado estável, o fluxo de massa entrando e saindo de um reator deve ser o mesmo. Por exemplo, para o primeiro reator o equilíbrio de massa pode ser escrito como $Q_{01}c_{01} + Q_{31}c_3 = Q_{15}c_1 + Q_{12}c_1$. Escreva as equações de equilíbrio de massa para os demais reatores e calcule as concentrações em cada reator utilizando a sua função `jacobi`, usando $\\varepsilon = 0.000001$.  "
   ]
  },
  {
   "cell_type": "code",
   "execution_count": 8,
   "metadata": {
    "deletable": false,
    "nbgrader": {
     "checksum": "24155aff5641f182f24559579459a1ee",
     "grade": false,
     "grade_id": "reatores",
     "locked": false,
     "schema_version": 1,
     "solution": true
    }
   },
   "outputs": [
    {
     "name": "stdout",
     "output_type": "stream",
     "text": [
      "[28.399995308456695, 28.399995308456695, 45.19999253317756, 39.59997831537849, 28.399990490263754]\n"
     ]
    }
   ],
   "source": [
    "## Defina a sua matriz A e o vetor b e chame a sua função jacobi.\n",
    "## Guarde o resultado na variável x\n",
    "# ESCREVA SEU CODIGO AQUI\n",
    "\n",
    "A = [[9, 0, -3, 0, 0],\n",
    "     [4, -4, 0, 0, 0],\n",
    "     [0, 2, -9, 0, 0],\n",
    "     [0, 1, 6, -9, 2],\n",
    "     [5, 1, 0, 0, -6]]\n",
    "\n",
    "b = [120, 0, -350, 0, 0]\n",
    "\n",
    "x = jacobi(A, b, 0.000001)\n",
    "print(x)"
   ]
  },
  {
   "cell_type": "code",
   "execution_count": 9,
   "metadata": {
    "collapsed": true,
    "deletable": false,
    "editable": false,
    "nbgrader": {
     "checksum": "12d5e6a4dcdb7f3d83edf70ebd0c259e",
     "grade": true,
     "grade_id": "reatores_test",
     "locked": true,
     "points": 10,
     "schema_version": 1,
     "solution": false
    }
   },
   "outputs": [],
   "source": [
    "## Verificação da sua resposta. Não modifique essa célula. \n",
    "## Certifique-se de que a célula acima foi executada logo antes de executar essa célula"
   ]
  }
 ],
 "metadata": {
  "kernelspec": {
   "display_name": "Python 3",
   "language": "python",
   "name": "python3"
  },
  "language_info": {
   "codemirror_mode": {
    "name": "ipython",
    "version": 3
   },
   "file_extension": ".py",
   "mimetype": "text/x-python",
   "name": "python",
   "nbconvert_exporter": "python",
   "pygments_lexer": "ipython3",
   "version": "3.5.2"
  }
 },
 "nbformat": 4,
 "nbformat_minor": 1
}
