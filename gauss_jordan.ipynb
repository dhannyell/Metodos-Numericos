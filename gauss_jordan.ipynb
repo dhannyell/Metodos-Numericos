{
 "cells": [
  {
   "cell_type": "markdown",
   "metadata": {},
   "source": [
    "Antes de submeter esse arquivo, certifique-se de que tudo está funcionando conforme esperado. Para isso, **reinicie o Kernel** (na barra de menu, selecione Kernel$\\rightarrow$Restart) e então **execute todas as células** (na barra de menu, selecione Cell$\\rightarrow$Run All).\n",
    "\n",
    "Tenha certeza de substituir todos os lugares onde está escrito `SEU CODIGO AQUI` ou `SUA RESPOSTA AQUI` pelo seu código ou sua resposta, bem como preencher com o seu nome e a sua equipe nas variáveis abaixo:"
   ]
  },
  {
   "cell_type": "code",
   "execution_count": 1,
   "metadata": {
    "collapsed": true
   },
   "outputs": [],
   "source": [
   
   ]
  },
  {
   "cell_type": "markdown",
   "metadata": {},
   "source": [
    "---"
   ]
  },
  {
   "cell_type": "markdown",
   "metadata": {},
   "source": [
    "# Método de Gauss-Jordan\n",
    "Para essa parte do trabalho, usaremos o seguinte notebook jupyter:"
   ]
  },
  {
   "cell_type": "markdown",
   "metadata": {},
   "source": [
    "---\n",
    "## Parte A (22 pontos)\n",
    "\n",
    "Nessa parte você deve implementar o Método de Gauss-Jordan."
   ]
  },
  {
   "cell_type": "code",
   "execution_count": 2,
   "metadata": {
    "collapsed": true
   },
   "outputs": [],
   "source": [
    "def divide_pelo_pivo(k,A,b):\n",
    "    n = len(A)\n",
    "    for j in range (k+1, n):\n",
    "        A[k][j] = A[k][j] / A[k][k]\n",
    "    b[k] = b[k] / A[k][k]\n",
    "    A[k][k] = 1"
   ]
  },
  {
   "cell_type": "code",
   "execution_count": 3,
   "metadata": {
    "collapsed": true,
    "deletable": false,
    "nbgrader": {
     "checksum": "c2ae8fff03850b61557366282a625b12",
     "grade": false,
     "grade_id": "gauss_jordan",
     "locked": false,
     "schema_version": 1,
     "solution": true
    }
   },
   "outputs": [],
   "source": [
    "def gauss_jordan(A, b):\n",
    "    '''\n",
    "    Executa o método de Gauss-Jordan para resolver o sistema linear Ax=b \n",
    "    transformando a matriz A na matriz identidade.\n",
    "    Parâmetros de entrada: A é uma matriz quadrada de ordem n e b é o vetor constante.\n",
    "    Saída: vetor solução x\n",
    "    '''\n",
    "    n = len(A)\n",
    "    \n",
    "    for k in range (0, n):\n",
    "        divide_pelo_pivo(k, A, b)\n",
    "    \n",
    "        for i in range (0, n):\n",
    "            if i != k:\n",
    "                m = -A[i][k] / A[k][k]\n",
    "                \n",
    "                for j in range (k+1, n):\n",
    "                    A[i][j] = A[i][j] + m*A[k][j]\n",
    "                b[i] = b[i] + m*b[k]\n",
    "                A[i][k] = 0\n",
    "    return b"
   ]
  },
  {
   "cell_type": "markdown",
   "metadata": {},
   "source": [
    "Agora teste a sua função com o exemplo visto em sala. Ao executar a célula abaixo (lembre-se de executar a célula acima antes de executar a célula abaixo), você deve ver o seguinte resultado:\n",
    "```\n",
    "[-2.9999999999999996, 5.0, 8.326672684688674e-17]\n",
    "```"
   ]
  },
  {
   "cell_type": "code",
   "execution_count": 4,
   "metadata": {},
   "outputs": [
    {
     "name": "stdout",
     "output_type": "stream",
     "text": [
      "[-2.9999999999999996, 5.0, 8.326672684688674e-17]\n"
     ]
    }
   ],
   "source": [
    "A = [[3, 2, 4],\n",
    "     [1, 1, 2],\n",
    "     [4, 3, -2]]\n",
    "b = [1, 2, 3]\n",
    "x = gauss_jordan(A, b)\n",
    "print(x)"
   ]
  },
  {
   "cell_type": "code",
   "execution_count": 5,
   "metadata": {
    "collapsed": true,
    "deletable": false,
    "editable": false,
    "nbgrader": {
     "checksum": "d5cf2bc663e15271a15d298747596dfe",
     "grade": true,
     "grade_id": "gauss_jordan_test",
     "locked": true,
     "points": 10,
     "schema_version": 1,
     "solution": false
    }
   },
   "outputs": [],
   "source": [
    "# Não modifique essa célula\n",
    "\"\"\"Verificando que a função gauss_jordan retorna a saída correta para outras entradas. Note que outros \n",
    "testes podem ser feitos durante a correção\"\"\"\n",
    "A1 = [[1, -3, 2],\n",
    "     [-2, 8, -1],\n",
    "     [4, -6, 5]]\n",
    "b1 = [11, -15, 29]\n",
    "assert gauss_jordan(A1, b1) == [2.0, -1.0, 3.0]\n",
    "A1 = [[6, -2, 2, 4],\n",
    "     [12, -8, 6, 10],\n",
    "     [3, -13, 9, 3],\n",
    "     [-6, 4, 1, -18]]\n",
    "b1 = [16, 26, -19, -34]\n",
    "assert gauss_jordan(A1, b1) == [3.0, 1.0, -2.0, 1.0]"
   ]
  },
  {
   "cell_type": "markdown",
   "metadata": {},
   "source": [
    "Se ao executar a célula acima não acontecer nada, os testes foram executados com sucesso. Qualquer mensagem de AssertionError indica que a função está implementada de modo incorreto.\n",
    "\n",
    "## Calculando a matriz inversa usando Gauss-Jordan\n",
    "\n",
    "Antes de calcular a matriz inversa, implemente uma função para calcular a matriz identidade de ordem n."
   ]
  },
  {
   "cell_type": "code",
   "execution_count": 6,
   "metadata": {
    "collapsed": true,
    "deletable": false,
    "nbgrader": {
     "checksum": "b0b6610fa9828f10485c4d8d343805dc",
     "grade": false,
     "grade_id": "identidade",
     "locked": false,
     "schema_version": 1,
     "solution": true
    }
   },
   "outputs": [],
   "source": [
    "def identidade(n):\n",
    "    '''Cria uma matriz identidade de ordem n.\n",
    "    Parâmetros de entrada:  n é a ordem da matriz.\n",
    "    Saída: matriz identidade de ordem n\n",
    "    '''\n",
    "    \n",
    "    B = []\n",
    "    \n",
    "    for i in range (0,n):\n",
    "        linha = []\n",
    "        for j in range (0, n):\n",
    "            if(i==j):\n",
    "                linha.append(1)\n",
    "            else:\n",
    "                linha.append(0)\n",
    "        B.append(linha)\n",
    "\n",
    "    return B"
   ]
  },
  {
   "cell_type": "markdown",
   "metadata": {},
   "source": [
    "Agora implemente a função que retorna a matriz inversa usando Gauss-Jordan:"
   ]
  },
  {
   "cell_type": "code",
   "execution_count": 7,
   "metadata": {
    "collapsed": true
   },
   "outputs": [],
   "source": [
    "def divide_pelo_pivo_inv(k,A,Inv):\n",
    "    n = len(A)\n",
    "\n",
    "    for j in range (k+1, n):\n",
    "        A[k][j] = A[k][j] / A[k][k]\n",
    "    for j in range (0, n):\n",
    "        Inv[k][j] = Inv[k][j] / A[k][k]\n",
    "    A[k][k] = 1"
   ]
  },
  {
   "cell_type": "code",
   "execution_count": 8,
   "metadata": {
    "collapsed": true,
    "deletable": false,
    "nbgrader": {
     "checksum": "0c56da095a8f1956d79a04f524f6eba1",
     "grade": false,
     "grade_id": "inversa",
     "locked": false,
     "schema_version": 1,
     "solution": true
    }
   },
   "outputs": [],
   "source": [
    "def gauss_inversa(A):\n",
    "    '''\n",
    "    Executa o método de Gauss-Jordan para calcular a matriz inversa de A.\n",
    "    Parâmetros de entrada: A é uma matriz quadrada de ordem n.\n",
    "    Saída: Inv é a matriz inversa de A.\n",
    "    '''\n",
    "    n = len(A)\n",
    "    Inv = identidade(n)\n",
    "\n",
    "    for k in range (0, n):\n",
    "        divide_pelo_pivo_inv(k, A, Inv)\n",
    "        \n",
    "        for i in range (0, n):\n",
    "            if i != k:\n",
    "                m = -A[i][k]/A[k][k]\n",
    "\n",
    "                for j in range (0, n):\n",
    "                    A[i][j] = A[i][j] + m*A[k][j]\n",
    "                    Inv[i][j] = Inv[i][j] + m*Inv[k][j]\n",
    "                A[i][k] = 0\n",
    "    return Inv"
   ]
  },
  {
   "cell_type": "markdown",
   "metadata": {},
   "source": [
    "Agora teste a sua função com o exemplo visto em sala. Ao executar a célula abaixo (lembre-se de executar a célula acima antes de executar a célula abaixo), você deve ver o seguinte resultado:\n",
    "\n",
    "```\n",
    "Inv: \n",
    "1.5 1.5 -2.0 \n",
    "-0.5 -1.5 1.0 \n",
    "-0.5 -0.5 1.0 ```"
   ]
  },
  {
   "cell_type": "code",
   "execution_count": 9,
   "metadata": {
    "scrolled": true
   },
   "outputs": [
    {
     "name": "stdout",
     "output_type": "stream",
     "text": [
      "Inv: \n",
      "1.5 1.5 -2.0 \n",
      "-0.5 -1.5 1.0 \n",
      "-0.5 -0.5 1.0 \n",
      "\n"
     ]
    }
   ],
   "source": [
    "def formata_matriz(M):\n",
    "    m = len(M) # número de linhas\n",
    "    n = len(M[0]) # número de colunas\n",
    "    s = \"\"\n",
    "    for i in range(m):\n",
    "        for j in range(n):\n",
    "           s += \"%s \" % M[i][j]\n",
    "        s += \"\\n\"\n",
    "    return s\n",
    "\n",
    "A = [[2, 1, 3],\n",
    "     [0, -1, 1],\n",
    "     [1, 0, 3]]\n",
    "Inv = gauss_inversa(A)\n",
    "print(\"Inv: \\n%s\" % formata_matriz(Inv))"
   ]
  },
  {
   "cell_type": "code",
   "execution_count": 10,
   "metadata": {
    "collapsed": true,
    "deletable": false,
    "editable": false,
    "nbgrader": {
     "checksum": "859a8f67a9ffa0c5bea5c7892470e391",
     "grade": true,
     "grade_id": "inversa_test",
     "locked": true,
     "points": 12,
     "schema_version": 1,
     "solution": false
    }
   },
   "outputs": [],
   "source": [
    "# Não modifique essa célula\n",
    "\"\"\"Verificando que a função gauss_inversa retorna a saída correta para outras entradas. Note que outros \n",
    "testes podem ser feitos durante a correção\"\"\"\n",
    "A = [[2, -1, 3],\n",
    "     [1, -2, 1],\n",
    "     [0, 3, 2]]\n",
    "assert gauss_inversa(A) == [[2.3333333333333335, -3.666666666666667, -1.6666666666666667], [0.6666666666666666, -1.3333333333333333, -0.3333333333333333], [-1.0, 2.0, 1.0]]\n",
    "\n",
    "A1 = [[6, -2, 2, 4],\n",
    "     [12, -8, 6, 10],\n",
    "     [3, -13, 9, 3],\n",
    "     [-6, 4, 1, -18]]\n",
    "assert gauss_inversa(A1) == [[-3.4861111111111107, 2.1527777777777777, -0.6944444444444444, 0.3055555555555555], [8.291666666666666, -4.791666666666666, 1.4166666666666665, -0.5833333333333333], [11.916666666666666, -6.916666666666666, 2.1666666666666665, -0.8333333333333333], [3.6666666666666665, -2.1666666666666665, 0.6666666666666666, -0.3333333333333333]]\n"
   ]
  },
  {
   "cell_type": "markdown",
   "metadata": {},
   "source": [
    "Se ao executar a célula acima não acontecer nada, os testes foram executados com sucesso. Qualquer mensagem de **`AssertionError`** indica que a função está implementada de modo incorreto."
   ]
  },
  {
   "cell_type": "markdown",
   "metadata": {},
   "source": [
    "---\n",
    "## Parte B (10 pontos)\n",
    "\n",
    "![Figura 1: O problema dos reatores](https://emanueles.github.io/metodos/images/reatores.png)\n",
    "\n",
    "\n",
    "A figura 1 mostra cinco reatores conectados por tubos. A razão de fluxo de massa através de cada tubo é calculada como o produto de fluxo (Q) por concentração (c). Num estado estável, o fluxo de massa entrando e saindo de um reator deve ser o mesmo. Por exemplo, para o primeiro reator o equilíbrio de massa pode ser escrito como $Q_{01}c_{01} + Q_{31}c_3 = Q_{15}c_1 + Q_{12}c_1$. Escreva as equações de equilíbrio de massa para os demais reatores e calcule as concentrações em cada reator utilizando a sua função `gauss_jordan`.  "
   ]
  },
  {
   "cell_type": "code",
   "execution_count": 11,
   "metadata": {
    "deletable": false,
    "nbgrader": {
     "checksum": "759636a8dacb7983c3fa77e9c7d012d9",
     "grade": false,
     "grade_id": "reatores",
     "locked": false,
     "schema_version": 1,
     "solution": true
    }
   },
   "outputs": [
    {
     "name": "stdout",
     "output_type": "stream",
     "text": [
      "[28.4, 28.4, 45.199999999999996, 39.599999999999994, 28.399999999999995]\n"
     ]
    }
   ],
   "source": [
    "## Defina a sua matriz A e o vetor b e chame a sua função gauss_jordan\n",
    "## Guarde o resultado na variável x\n",
    "# ESCREVA SEU CODIGO AQUI\n",
    "C = [[9,0,-3,0,0],\n",
    "     [4,-4,0,0,0],\n",
    "     [0,2,-9,0,0],\n",
    "     [0,1,6,-9,2],\n",
    "     [5,1,0,0,-6]]\n",
    "\n",
    "b = [120,0,-350,0,0]\n",
    "\n",
    "x = gauss_jordan(C,b)\n",
    "print(x)"
   ]
  },
  {
   "cell_type": "code",
   "execution_count": 12,
   "metadata": {
    "collapsed": true,
    "deletable": false,
    "editable": false,
    "nbgrader": {
     "checksum": "12d5e6a4dcdb7f3d83edf70ebd0c259e",
     "grade": true,
     "grade_id": "reatores_test",
     "locked": true,
     "points": 10,
     "schema_version": 1,
     "solution": false
    }
   },
   "outputs": [],
   "source": [
    "## Verificação da sua resposta. Não modifique essa célula. \n",
    "## Certifique-se de que a célula acima foi executada logo antes de executar essa célula"
   ]
  }
 ],
 "metadata": {
  "kernelspec": {
   "display_name": "Python 3",
   "language": "python",
   "name": "python3"
  },
  "language_info": {
   "codemirror_mode": {
    "name": "ipython",
    "version": 3
   },
   "file_extension": ".py",
   "mimetype": "text/x-python",
   "name": "python",
   "nbconvert_exporter": "python",
   "pygments_lexer": "ipython3",
   "version": "3.5.2"
  }
 },
 "nbformat": 4,
 "nbformat_minor": 1
}
