{
 "cells": [
  {
   "cell_type": "markdown",
   "metadata": {},
   "source": [
    "Antes de submeter esse arquivo, certifique-se de que tudo está funcionando conforme esperado. Para isso, **reinicie o Kernel** (na barra de menu, selecione Kernel$\\rightarrow$Restart) e então **execute todas as células** (na barra de menu, selecione Cell$\\rightarrow$Run All).\n",
    "\n",
    "Tenha certeza de substituir todos os lugares onde está escrito `SEU CODIGO AQUI` ou `SUA RESPOSTA AQUI` pelo seu código ou sua resposta, bem como preencher com o seu nome e a sua equipe nas variáveis abaixo:"
   ]
  },
  {
   "cell_type": "code",
   "execution_count": 1,
   "metadata": {
    "collapsed": true
   },
   "outputs": [],
   "source": [
   ]
  },
  {
   "cell_type": "markdown",
   "metadata": {},
   "source": [
    "---"
   ]
  },
  {
   "cell_type": "markdown",
   "metadata": {},
   "source": [
    "# Método de Gauss com Pivotação Parcial\n",
    "Para essa parte do trabalho, usaremos o seguinte notebook jupyter:"
   ]
  },
  {
   "cell_type": "markdown",
   "metadata": {},
   "source": [
    "---\n",
    "## Parte A (26 pontos)\n",
    "\n",
    "Nessa parte você deve implementar os métodos da Eliminação de Gauss com Pivotação Parcial e da Eliminação de Gauss com Pivotação modificado para retornar o determinante da matriz dos coeficientes. Na célula abaixo, copie e cole o método das substituições retroativas implementado no notebook trab-gauss.ipynb."
   ]
  },
  {
   "cell_type": "code",
   "execution_count": 2,
   "metadata": {
    "collapsed": true,
    "deletable": false,
    "nbgrader": {
     "checksum": "b3a4cbf165bdc9ed3eefbe3c76594e56",
     "grade": false,
     "grade_id": "subst_retro",
     "locked": false,
     "schema_version": 1,
     "solution": true
    }
   },
   "outputs": [],
   "source": [
    "def substituicoes_retroativas(A, b):\n",
    "    n = len(A)\n",
    "    y = n*[0]\n",
    "    for i in range(n-1,-1,-1):\n",
    "        s = sum([A[i][j]*y[j] for j in range(i+1,n)])\n",
    "        y[i] = (b[i] - s )/A[i][i]\n",
    "    return y"
   ]
  },
  {
   "cell_type": "markdown",
   "metadata": {},
   "source": [
    "Agora implemente a função para escolher o pivô:"
   ]
  },
  {
   "cell_type": "code",
   "execution_count": 3,
   "metadata": {
    "collapsed": true,
    "deletable": false,
    "nbgrader": {
     "checksum": "948ee8888c53bc44ea86268a1ad40b7e",
     "grade": false,
     "grade_id": "escolhe_pivo",
     "locked": false,
     "schema_version": 1,
     "solution": true
    }
   },
   "outputs": [],
   "source": [
    "def escolhe_pivo(k, A, b):\n",
    "    n = len(A)\n",
    "    p = 0\n",
    "    for i in range(k,n):\n",
    "        if (abs(A[i][k]) > abs(A[k][k])):\n",
    "            p += 1\n",
    "            for j in range(n):                \n",
    "                aux1 = A[k][j]\n",
    "                A[k][j] = A[i][j]\n",
    "                A[i][j] = aux1\n",
    "            aux2 = b[k]\n",
    "            b[k] = b[i]\n",
    "            b[i] = aux2\n",
    "    if p > 0:\n",
    "        return True\n",
    "    else :\n",
    "        return False"
   ]
  },
  {
   "cell_type": "markdown",
   "metadata": {},
   "source": [
    "Agora precisamos testar se a função está implementada corretamente. Iremos testar com o exemplo mostrado em sala. Se tudo estiver ok, você deverá ver o seguinte resultado:\n",
    "\n",
    "```\n",
    "True\n",
    "A = [[3, 1, 0], [1, 2, 3], [0, 3, 4]]\n",
    "b = [4, 3, 3]\n",
    "```"
   ]
  },
  {
   "cell_type": "code",
   "execution_count": 4,
   "metadata": {},
   "outputs": [
    {
     "name": "stdout",
     "output_type": "stream",
     "text": [
      "True\n",
      "A = [[3, 1, 0], [1, 2, 3], [0, 3, 4]]\n",
      "b = [4, 3, 3]\n"
     ]
    }
   ],
   "source": [
    "A = [[1, 2, 3],\n",
    "     [3, 1, 0],\n",
    "     [0, 3, 4]]\n",
    "b = [3, 4, 3]\n",
    "## Testaremos com a primeira coluna (k=0)\n",
    "houveTroca = escolhe_pivo(0, A, b)\n",
    "print(houveTroca)\n",
    "print(\"A =\", A)\n",
    "print(\"b =\", b)"
   ]
  },
  {
   "cell_type": "markdown",
   "metadata": {},
   "source": [
    "Agora implemente a função `gauss_pivot` (ela deve chamar as funções `escolhe_pivo` e `substituicoes_retroativas`)."
   ]
  },
  {
   "cell_type": "code",
   "execution_count": 5,
   "metadata": {
    "collapsed": true,
    "deletable": false,
    "nbgrader": {
     "checksum": "92f014aafa771adc07c49ef7b3d6a44e",
     "grade": false,
     "grade_id": "gauss_pivot",
     "locked": false,
     "schema_version": 1,
     "solution": true
    }
   },
   "outputs": [],
   "source": [
    "def gauss_pivot(A, b):\n",
    "    n = len(A)\n",
    "    for i in range(0,n):\n",
    "        escolhe_pivo(i,A,b)\n",
    "        for j in range(i+1,n):\n",
    "            fatorm = A[j][i]/A[i][i]\n",
    "            for aux in range(n):\n",
    "                A[j][aux]= A[j][aux] - fatorm*A[i][aux]\n",
    "            b[j] = b[j] - fatorm*b[i]\n",
    "    x = substituicoes_retroativas(A,b)\n",
    "    return (x)"
   ]
  },
  {
   "cell_type": "markdown",
   "metadata": {},
   "source": [
    "Agora teste a sua função com o exemplo visto em sala. Ao executar a célula abaixo (lembre-se de executar as células acima antes de executar a célula abaixo), você deve ver o seguinte resultado:\n",
    "```\n",
    "[1.0, 1.0, 0.0]\n",
    "```"
   ]
  },
  {
   "cell_type": "code",
   "execution_count": 6,
   "metadata": {},
   "outputs": [
    {
     "name": "stdout",
     "output_type": "stream",
     "text": [
      "[1.0, 1.0, 0.0]\n"
     ]
    }
   ],
   "source": [
    "A = [[1, 2, 3],\n",
    "     [3, 1, 0],\n",
    "     [0, 3, 4]]\n",
    "b = [3, 4, 3]\n",
    "x = gauss_pivot(A, b)\n",
    "print(x)"
   ]
  },
  {
   "cell_type": "code",
   "execution_count": 7,
   "metadata": {
    "collapsed": true,
    "deletable": false,
    "editable": false,
    "nbgrader": {
     "checksum": "d556163302540ba9c4850831bd52e192",
     "grade": true,
     "grade_id": "subst_retro_test",
     "locked": true,
     "points": 13,
     "schema_version": 1,
     "solution": false
    }
   },
   "outputs": [],
   "source": [
    "# Não modifique essa célula\n",
    "\"\"\"Verificando que a gauss_pivot retorna a saída correta para outras entradas. \n",
    "Outros testes podem ser realizados durante a correção.\"\"\"\n",
    "A = [[0, -4, 5],\n",
    "     [2, 3, 7],\n",
    "     [5, -3, 2]]\n",
    "b = [1, 12, 4]\n",
    "assert gauss_pivot(A,b) == [1.0, 1.0, 1.0]\n",
    "A = [[3, 2, 4],\n",
    "    [1, 1, 2],\n",
    "    [4, 3, -2]]\n",
    "b = [1, 2, 3]\n",
    "assert gauss_pivot(A,b) == [-3.0, 5.0, 0.0]\n",
    "A = [[3, 2, 2, 4],\n",
    "     [2, 3, 1, 2],\n",
    "     [4, 1, 3, 5],\n",
    "     [1, 4, 4, 3]]\n",
    "b = [133, 90, 163, 126]\n",
    "assert gauss_pivot(A,b) == [15, 8.0, 10.0, 13.0]"
   ]
  },
  {
   "cell_type": "markdown",
   "metadata": {},
   "source": [
    "Se ao executar a célula acima não acontecer nada, os testes foram executados com sucesso. Qualquer mensagem de AssertionError indica que a função está implementada de modo incorreto.\n",
    "\n",
    "Agora implemente o método da eliminação de Gauss com pivotação modificado para retornar também o determinante da matriz dos coeficientes."
   ]
  },
  {
   "cell_type": "code",
   "execution_count": 8,
   "metadata": {
    "collapsed": true,
    "deletable": false,
    "nbgrader": {
     "checksum": "d0c256d389d79b8e991a1db0eab90b54",
     "grade": false,
     "grade_id": "gauss_det",
     "locked": false,
     "schema_version": 1,
     "solution": true
    }
   },
   "outputs": [],
   "source": [
    "def escolhe_pivo2(k, A, b):\n",
    "    n = len(A)\n",
    "    p = 0\n",
    "    for i in range(k,n):\n",
    "        if (abs(A[i][k]) > abs(A[k][k])):\n",
    "            p += 1\n",
    "            for j in range(n):                \n",
    "                aux1 = A[k][j]\n",
    "                A[k][j] = A[i][j]\n",
    "                A[i][j] = aux1\n",
    "            aux2 = b[k]\n",
    "            b[k] = b[i]\n",
    "            b[i] = aux2\n",
    "    return p\n",
    "\n",
    "def gauss_pivot_det(A, b):\n",
    "    n = len(A)\n",
    "    det = 1\n",
    "    for i in range(0,n):\n",
    "        p = escolhe_pivo2(i,A,b)\n",
    "        det *= A[i][i] * (-1)**p\n",
    "        for j in range(i+1,n):\n",
    "            fatorm = A[j][i]/A[i][i]\n",
    "            for aux in range(n):\n",
    "                A[j][aux]= A[j][aux] - fatorm*A[i][aux]\n",
    "            b[j] = b[j] - fatorm*b[i]\n",
    "    x = substituicoes_retroativas(A,b)\n",
    "    return (x,det)"
   ]
  },
  {
   "cell_type": "markdown",
   "metadata": {},
   "source": [
    "Agora teste a sua função com o exemplo visto em sala. Ao executar a célula abaixo (lembre-se de executar a célula acima antes de executar a célula abaixo), você deve ver o seguinte reultado:\n",
    "\n",
    "```[2.0, -1.0, 3.0] -24.0```"
   ]
  },
  {
   "cell_type": "code",
   "execution_count": 9,
   "metadata": {},
   "outputs": [
    {
     "name": "stdout",
     "output_type": "stream",
     "text": [
      "[2.0, -1.0, 3.0] -24.0\n"
     ]
    }
   ],
   "source": [
    "A = [[1, -3, 2],\n",
    "     [-2, 8, -1],\n",
    "     [4, -6, 5]]\n",
    "b = [11, -15, 29]\n",
    "(x, det) = gauss_pivot_det(A, b)\n",
    "print(x,det)"
   ]
  },
  {
   "cell_type": "code",
   "execution_count": 10,
   "metadata": {
    "collapsed": true,
    "deletable": false,
    "editable": false,
    "nbgrader": {
     "checksum": "b625316b9ea33408b33d054355d11c70",
     "grade": true,
     "grade_id": "gauss_det_test",
     "locked": true,
     "points": 13,
     "schema_version": 1,
     "solution": false
    }
   },
   "outputs": [],
   "source": [
    "# Não modifique essa célula\n",
    "\"\"\"Verificando que a função gauss_pivot_det retorna a saída correta para outras entradas. Note que outros \n",
    "testes podem ser feitos durante a correção\"\"\"\n",
    "A1 = [[1, -3, 2],\n",
    "     [-2, 8, -1],\n",
    "     [4, -6, 5]]\n",
    "b1 = [11, -15, 29]\n",
    "assert gauss_pivot_det(A1, b1) == ([2.0, -1.0, 3.0], -24.0)\n"
   ]
  },
  {
   "cell_type": "markdown",
   "metadata": {},
   "source": [
    "Se ao executar a célula acima não acontecer nada, os testes foram executados com sucesso. Qualquer mensagem de **`AssertionError`** indica que a função está implementada de modo incorreto."
   ]
  },
  {
   "cell_type": "markdown",
   "metadata": {},
   "source": [
    "---\n",
    "## Parte B (10 pontos)\n",
    "\n",
    "![Figura 1: O problema dos reatores](https://emanueles.github.io/metodos/images/reatores.png)\n",
    "\n",
    "\n",
    "A figura 1 mostra cinco reatores conectados por tubos. A razão de fluxo de massa através de cada tubo é calculada como o produto de fluxo (Q) por concentração (c). Num estado estável, o fluxo de massa entrando e saindo de um reator deve ser o mesmo. Por exemplo, para o primeiro reator o equilíbrio de massa pode ser escrito como $Q_{01}c_{01} + Q_{31}c_3 = Q_{15}c_1 + Q_{12}c_1$. Escreva as equações de equilíbrio de massa para os demais reatores e calcule as concentrações em cada reator utilizando a sua função `gauss_pivot`.  "
   ]
  },
  {
   "cell_type": "code",
   "execution_count": 11,
   "metadata": {
    "deletable": false,
    "nbgrader": {
     "checksum": "4aaa82eba0ce7635f60266b7d24f94e5",
     "grade": false,
     "grade_id": "reatores",
     "locked": false,
     "schema_version": 1,
     "solution": true
    }
   },
   "outputs": [
    {
     "name": "stdout",
     "output_type": "stream",
     "text": [
      "[28.4, 28.4, 45.199999999999996, 39.599999999999994, 28.400000000000002]\n"
     ]
    }
   ],
   "source": [
    "A = [[9 , 0 , -3 , 0 , 0],\n",
    "     [-4 , 4 , 0 , 0 , 0],\n",
    "     [0 , -2 , 9 , 0, 0],\n",
    "     [0 , 1 , 6 , -9 , 2],\n",
    "     [5 , 1 , 0 , 0 , -6]]\n",
    "b = [120 , 0 , 350 , 0 , 0]\n",
    "x = gauss_pivot(A,b)\n",
    "print(x)"
   ]
  },
  {
   "cell_type": "code",
   "execution_count": 12,
   "metadata": {
    "collapsed": true,
    "deletable": false,
    "editable": false,
    "nbgrader": {
     "checksum": "12d5e6a4dcdb7f3d83edf70ebd0c259e",
     "grade": true,
     "grade_id": "reatores_test",
     "locked": true,
     "points": 10,
     "schema_version": 1,
     "solution": false
    }
   },
   "outputs": [],
   "source": [
    "## Verificação da sua resposta. Não modifique essa célula. \n",
    "## Certifique-se de que a célula acima foi executada logo antes de executar essa célula"
   ]
  }
 ],
 "metadata": {
  "kernelspec": {
   "display_name": "Python 3",
   "language": "python",
   "name": "python3"
  },
  "language_info": {
   "codemirror_mode": {
    "name": "ipython",
    "version": 3
   },
   "file_extension": ".py",
   "mimetype": "text/x-python",
   "name": "python",
   "nbconvert_exporter": "python",
   "pygments_lexer": "ipython3",
   "version": "3.5.2"
  }
 },
 "nbformat": 4,
 "nbformat_minor": 1
}
