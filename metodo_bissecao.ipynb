{
 "cells": [
  {
   "cell_type": "markdown",
   "metadata": {},
   "source": [
    "Antes de submeter esse arquivo, certifique-se de que tudo está funcionando conforme esperado. Para isso, **reinicie o Kernel** (na barra de menu, selecione Kernel$\\rightarrow$Restart) e então **execute todas as células** (na barra de menu, selecione Cell$\\rightarrow$Run All).\n",
    "\n",
    "Tenha certeza de substituir todos os lugares onde está escrito `SEU CODIGO AQUI` ou `SUA RESPOSTA AQUI` pelo seu código ou sua resposta, bem como preencher com o seu nome e a sua equipe nas variáveis abaixo:"
   ]
  },
  {
   "cell_type": "code",
   "execution_count": null,
   "metadata": {
    "collapsed": true
   },
   "outputs": [],
   "source": [
   ]
  },
  {
   "cell_type": "markdown",
   "metadata": {},
   "source": [
    "---"
   ]
  },
  {
   "cell_type": "markdown",
   "metadata": {
    "deletable": false,
    "editable": false,
    "nbgrader": {
     "checksum": "3585e1e48ede32b6aa090a092a065c1a",
     "grade": false,
     "grade_id": "jupyter",
     "locked": true,
     "schema_version": 1,
     "solution": false
    }
   },
   "source": [
    "# Método da Bisseção\n",
    "\n",
    "Para essa parte do trabalho, usaremos o seguinte notebook jupyter:"
   ]
  },
  {
   "cell_type": "markdown",
   "metadata": {},
   "source": [
    "---\n",
    "## Parte A (15 pontos)\n",
    "\n",
    "Implemente o método da Bisseção, tal que ele retorne uma tupla contendo um booleano e a raiz."
   ]
  },
  {
   "cell_type": "code",
   "execution_count": 2,
   "metadata": {
    "collapsed": true,
    "deletable": false,
    "nbgrader": {
     "checksum": "dd59841797cd75ae92119953a11009e1",
     "grade": false,
     "grade_id": "bissecao",
     "locked": false,
     "schema_version": 1,
     "solution": true
    }
   },
   "outputs": [],
   "source": [
    "def bissecao(f, a, b, epsilon, maxIter):\n",
    "    \"\"\"Executa o método da bisseção para achar o zero de f no intervalo \n",
    "       [a,b] com precisão epsilon. O método executa no máximo maxIter\n",
    "       iterações.\n",
    "       Retorna uma tupla (houveErro, raiz), onde houveErro é booleano.\n",
    "    \"\"\"\n",
    "    \n",
    "    ##Inicializando f(a) e f(b)\n",
    "    fa = f(a)\n",
    "    fb = f(b)\n",
    "    \n",
    "    ##Checa se a função muda de sinal\n",
    "    if fa * fb > 0:\n",
    "        print(\"A função não muda de sinal.\")\n",
    "        return (True, None)\n",
    "        \n",
    "\n",
    "    ##Inicio da tabela com k, a, fa, b, fb, x, fx, IntervaloX\n",
    "    print(\"k\\t a\\t\\t fa\\t\\t b\\t\\t fb\\t\\t x\\t\\t fx\\t\\t intervalo\")\n",
    "        \n",
    "    ##Inizializando o tamanho do intervalo e os valores de x e fx\n",
    "    intervalo = abs(b-a)\n",
    "    x = (a+b)/2\n",
    "    fx = f(x)\n",
    "        \n",
    "    ##Dados de inicialização\n",
    "    print(\"-\\t%e\\t%e\\t%e\\t%e\\t%e\\t%e\\t%e\" % (a, fa, b, fb, x, fx, intervalo))\n",
    "       \n",
    "    ##Checa se o intervalo é pequeno o bastante e retorna a raíz sem erros\n",
    "    if intervalo <= epsilon:\n",
    "        return (False, x)\n",
    "        \n",
    "    #Variável para auxiliar na iteração\n",
    "    k = 1\n",
    "        \n",
    "    #Laço \n",
    "    while k <= maxIter:\n",
    "        ##Checa se a raíz está entre a e x ou se está entre b e x e atualiza\n",
    "        ##seus valores\n",
    "        \n",
    "        if fa * fx > 0:\n",
    "            a = x\n",
    "            fa = fx\n",
    "        else:\n",
    "            b = x\n",
    "            fb = fx\n",
    "\n",
    "        ##Atualiza o tamanho do intervalo e os novos valores de x e fx\n",
    "        intervalo = abs(b-a)\n",
    "        x = (a+b)/2\n",
    "        fx = f(x)\n",
    "\n",
    "        ##Dados da tabela atualizados\n",
    "        print(\"%d\\t%e\\t%e\\t%e\\t%e\\t%e\\t%e\\t%e\" % (k, a, fa, b, fb, x, fx, intervalo))\n",
    "\n",
    "        ##Checa se o novo intervalo é pequeno o suficiente e retorna a raíz, caso seja\n",
    "        ##Teste de parada\n",
    "        if intervalo <= epsilon:\n",
    "            return (False, x)\n",
    "\n",
    "        ##Incrementando o k\n",
    "        k = k+1\n",
    "        \n",
    "    ##Mostra erro na tela se a função atingiu o número máximo de iterações e retorna \n",
    "    ##a última raíz\n",
    "    print(\"Número máximo de iterações atingido!\")\n",
    "    return (True, x)\n",
    "        "
   ]
  },
  {
   "cell_type": "markdown",
   "metadata": {},
   "source": [
    "Teste a sua função com o exemplo visto em sala:\n",
    "Compare o seu resultado com a tabela abaixo:\n",
    "```\n",
    "k\t  a\t\t  fa\t\t  b\t\t  fb\t\t  x\t\t  fx\t\tintervX\n",
    "-\t0.000000e+00\t3.000000e+00\t1.000000e+00\t-5.000000e+00\t5.000000e-01\t-1.375000e+00\t1.000000e+00\n",
    "1\t0.000000e+00\t3.000000e+00\t5.000000e-01\t-1.375000e+00\t2.500000e-01\t7.656250e-01\t5.000000e-01\n",
    "2\t2.500000e-01\t7.656250e-01\t5.000000e-01\t-1.375000e+00\t3.750000e-01\t-3.222656e-01\t2.500000e-01\n",
    "3\t2.500000e-01\t7.656250e-01\t3.750000e-01\t-3.222656e-01\t3.125000e-01\t2.180176e-01\t1.250000e-01\n",
    "4\t3.125000e-01\t2.180176e-01\t3.750000e-01\t-3.222656e-01\t3.437500e-01\t-5.313110e-02\t6.250000e-02\n",
    "5\t3.125000e-01\t2.180176e-01\t3.437500e-01\t-5.313110e-02\t3.281250e-01\t8.220291e-02\t3.125000e-02\n",
    "6\t3.281250e-01\t8.220291e-02\t3.437500e-01\t-5.313110e-02\t3.359375e-01\t1.447439e-02\t1.562500e-02\n",
    "7\t3.359375e-01\t1.447439e-02\t3.437500e-01\t-5.313110e-02\t3.398438e-01\t-1.934391e-02\t7.812500e-03\n",
    "8\t3.359375e-01\t1.447439e-02\t3.398438e-01\t-1.934391e-02\t3.378906e-01\t-2.438627e-03\t3.906250e-03\n",
    "9\t3.359375e-01\t1.447439e-02\t3.378906e-01\t-2.438627e-03\t3.369141e-01\t6.016918e-03\t1.953125e-03\n",
    "10\t3.369141e-01\t6.016918e-03\t3.378906e-01\t-2.438627e-03\t3.374023e-01\t1.788904e-03\t9.765625e-04\n",
    "```"
   ]
  },
  {
   "cell_type": "code",
   "execution_count": 3,
   "metadata": {},
   "outputs": [
    {
     "name": "stdout",
     "output_type": "stream",
     "text": [
      "k\t a\t\t fa\t\t b\t\t fb\t\t x\t\t fx\t\t intervalo\n",
      "-\t0.000000e+00\t3.000000e+00\t1.000000e+00\t-5.000000e+00\t5.000000e-01\t-1.375000e+00\t1.000000e+00\n",
      "1\t0.000000e+00\t3.000000e+00\t5.000000e-01\t-1.375000e+00\t2.500000e-01\t7.656250e-01\t5.000000e-01\n",
      "2\t2.500000e-01\t7.656250e-01\t5.000000e-01\t-1.375000e+00\t3.750000e-01\t-3.222656e-01\t2.500000e-01\n",
      "3\t2.500000e-01\t7.656250e-01\t3.750000e-01\t-3.222656e-01\t3.125000e-01\t2.180176e-01\t1.250000e-01\n",
      "4\t3.125000e-01\t2.180176e-01\t3.750000e-01\t-3.222656e-01\t3.437500e-01\t-5.313110e-02\t6.250000e-02\n",
      "5\t3.125000e-01\t2.180176e-01\t3.437500e-01\t-5.313110e-02\t3.281250e-01\t8.220291e-02\t3.125000e-02\n",
      "6\t3.281250e-01\t8.220291e-02\t3.437500e-01\t-5.313110e-02\t3.359375e-01\t1.447439e-02\t1.562500e-02\n",
      "7\t3.359375e-01\t1.447439e-02\t3.437500e-01\t-5.313110e-02\t3.398438e-01\t-1.934391e-02\t7.812500e-03\n",
      "8\t3.359375e-01\t1.447439e-02\t3.398438e-01\t-1.934391e-02\t3.378906e-01\t-2.438627e-03\t3.906250e-03\n",
      "9\t3.359375e-01\t1.447439e-02\t3.378906e-01\t-2.438627e-03\t3.369141e-01\t6.016918e-03\t1.953125e-03\n",
      "10\t3.369141e-01\t6.016918e-03\t3.378906e-01\t-2.438627e-03\t3.374023e-01\t1.788904e-03\t9.765625e-04\n"
     ]
    }
   ],
   "source": [
    "def f(x):\n",
    "    return x**3 - 9*x + 3\n",
    "a = 0\n",
    "b = 1\n",
    "epsilon = 0.001\n",
    "maxIter = 20\n",
    "(houveErro, raiz) = bissecao(f,a,b,epsilon,maxIter)"
   ]
  },
  {
   "cell_type": "code",
   "execution_count": 4,
   "metadata": {
    "deletable": false,
    "editable": false,
    "nbgrader": {
     "checksum": "d8e4f57e3751b5a75346e053abd32c0a",
     "grade": true,
     "grade_id": "correct_bissecao",
     "locked": false,
     "points": 10,
     "schema_version": 1,
     "solution": false
    }
   },
   "outputs": [
    {
     "name": "stdout",
     "output_type": "stream",
     "text": [
      "k\t a\t\t fa\t\t b\t\t fb\t\t x\t\t fx\t\t intervalo\n",
      "-\t-4.000000e+00\t-2.500000e+01\t-3.000000e+00\t3.000000e+00\t-3.500000e+00\t-8.375000e+00\t1.000000e+00\n",
      "1\t-3.500000e+00\t-8.375000e+00\t-3.000000e+00\t3.000000e+00\t-3.250000e+00\t-2.078125e+00\t5.000000e-01\n",
      "2\t-3.250000e+00\t-2.078125e+00\t-3.000000e+00\t3.000000e+00\t-3.125000e+00\t6.074219e-01\t2.500000e-01\n",
      "3\t-3.250000e+00\t-2.078125e+00\t-3.125000e+00\t6.074219e-01\t-3.187500e+00\t-6.979980e-01\t1.250000e-01\n",
      "4\t-3.187500e+00\t-6.979980e-01\t-3.125000e+00\t6.074219e-01\t-3.156250e+00\t-3.604126e-02\t6.250000e-02\n",
      "5\t-3.156250e+00\t-3.604126e-02\t-3.125000e+00\t6.074219e-01\t-3.140625e+00\t2.879906e-01\t3.125000e-02\n",
      "6\t-3.156250e+00\t-3.604126e-02\t-3.140625e+00\t2.879906e-01\t-3.148438e+00\t1.265512e-01\t1.562500e-02\n",
      "7\t-3.156250e+00\t-3.604126e-02\t-3.148438e+00\t1.265512e-01\t-3.152344e+00\t4.539925e-02\t7.812500e-03\n",
      "8\t-3.156250e+00\t-3.604126e-02\t-3.152344e+00\t4.539925e-02\t-3.154297e+00\t4.715092e-03\t3.906250e-03\n",
      "9\t-3.156250e+00\t-3.604126e-02\t-3.154297e+00\t4.715092e-03\t-3.155273e+00\t-1.565406e-02\t1.953125e-03\n",
      "10\t-3.155273e+00\t-1.565406e-02\t-3.154297e+00\t4.715092e-03\t-3.154785e+00\t-5.467225e-03\t9.765625e-04\n",
      "k\t a\t\t fa\t\t b\t\t fb\t\t x\t\t fx\t\t intervalo\n",
      "-\t2.000000e+00\t-7.000000e+00\t3.000000e+00\t3.000000e+00\t2.500000e+00\t-3.875000e+00\t1.000000e+00\n",
      "1\t2.500000e+00\t-3.875000e+00\t3.000000e+00\t3.000000e+00\t2.750000e+00\t-9.531250e-01\t5.000000e-01\n",
      "2\t2.750000e+00\t-9.531250e-01\t3.000000e+00\t3.000000e+00\t2.875000e+00\t8.886719e-01\t2.500000e-01\n",
      "3\t2.750000e+00\t-9.531250e-01\t2.875000e+00\t8.886719e-01\t2.812500e+00\t-6.518555e-02\t1.250000e-01\n",
      "4\t2.812500e+00\t-6.518555e-02\t2.875000e+00\t8.886719e-01\t2.843750e+00\t4.034119e-01\t6.250000e-02\n",
      "5\t2.812500e+00\t-6.518555e-02\t2.843750e+00\t4.034119e-01\t2.828125e+00\t1.670418e-01\t3.125000e-02\n",
      "6\t2.812500e+00\t-6.518555e-02\t2.828125e+00\t1.670418e-01\t2.820312e+00\t5.041170e-02\t1.562500e-02\n",
      "7\t2.812500e+00\t-6.518555e-02\t2.820312e+00\t5.041170e-02\t2.816406e+00\t-7.515848e-03\t7.812500e-03\n",
      "8\t2.816406e+00\t-7.515848e-03\t2.820312e+00\t5.041170e-02\t2.818359e+00\t2.141567e-02\t3.906250e-03\n",
      "9\t2.816406e+00\t-7.515848e-03\t2.818359e+00\t2.141567e-02\t2.817383e+00\t6.941852e-03\t1.953125e-03\n",
      "10\t2.816406e+00\t-7.515848e-03\t2.817383e+00\t6.941852e-03\t2.816895e+00\t-2.890126e-04\t9.765625e-04\n",
      "11\t2.816895e+00\t-2.890126e-04\t2.817383e+00\t6.941852e-03\t2.817139e+00\t3.325916e-03\t4.882812e-04\n",
      "12\t2.816895e+00\t-2.890126e-04\t2.817139e+00\t3.325916e-03\t2.817017e+00\t1.518326e-03\t2.441406e-04\n",
      "13\t2.816895e+00\t-2.890126e-04\t2.817017e+00\t1.518326e-03\t2.816956e+00\t6.146251e-04\t1.220703e-04\n",
      "14\t2.816895e+00\t-2.890126e-04\t2.816956e+00\t6.146251e-04\t2.816925e+00\t1.627984e-04\t6.103516e-05\n"
     ]
    }
   ],
   "source": [
    "# Não modifique essa célula\n",
    "\"\"\"Verificando que a função bissecao retorna a saída correta para várias entradas. Note que outros \n",
    "testes serão feitos durante a correção\"\"\"\n",
    "\n",
    "assert bissecao(f,-4,-3,0.001,10) == (False,-3.15478515625)\n",
    "assert bissecao(f,2,3,0.0001,14) == (False,2.816925048828125)\n"
   ]
  },
  {
   "cell_type": "code",
   "execution_count": 5,
   "metadata": {
    "deletable": false,
    "editable": false,
    "nbgrader": {
     "checksum": "149afd1b723fcc09d253b7a8fad758f1",
     "grade": true,
     "grade_id": "bissecao_invalid_input",
     "locked": false,
     "points": 5,
     "schema_version": 1,
     "solution": false
    }
   },
   "outputs": [
    {
     "name": "stdout",
     "output_type": "stream",
     "text": [
      "A função não muda de sinal.\n",
      "A função não muda de sinal.\n",
      "k\t a\t\t fa\t\t b\t\t fb\t\t x\t\t fx\t\t intervalo\n",
      "-\t2.000000e+00\t-7.000000e+00\t3.000000e+00\t3.000000e+00\t2.500000e+00\t-3.875000e+00\t1.000000e+00\n",
      "1\t2.500000e+00\t-3.875000e+00\t3.000000e+00\t3.000000e+00\t2.750000e+00\t-9.531250e-01\t5.000000e-01\n",
      "2\t2.750000e+00\t-9.531250e-01\t3.000000e+00\t3.000000e+00\t2.875000e+00\t8.886719e-01\t2.500000e-01\n",
      "3\t2.750000e+00\t-9.531250e-01\t2.875000e+00\t8.886719e-01\t2.812500e+00\t-6.518555e-02\t1.250000e-01\n",
      "4\t2.812500e+00\t-6.518555e-02\t2.875000e+00\t8.886719e-01\t2.843750e+00\t4.034119e-01\t6.250000e-02\n",
      "5\t2.812500e+00\t-6.518555e-02\t2.843750e+00\t4.034119e-01\t2.828125e+00\t1.670418e-01\t3.125000e-02\n",
      "6\t2.812500e+00\t-6.518555e-02\t2.828125e+00\t1.670418e-01\t2.820312e+00\t5.041170e-02\t1.562500e-02\n",
      "7\t2.812500e+00\t-6.518555e-02\t2.820312e+00\t5.041170e-02\t2.816406e+00\t-7.515848e-03\t7.812500e-03\n",
      "8\t2.816406e+00\t-7.515848e-03\t2.820312e+00\t5.041170e-02\t2.818359e+00\t2.141567e-02\t3.906250e-03\n",
      "9\t2.816406e+00\t-7.515848e-03\t2.818359e+00\t2.141567e-02\t2.817383e+00\t6.941852e-03\t1.953125e-03\n",
      "10\t2.816406e+00\t-7.515848e-03\t2.817383e+00\t6.941852e-03\t2.816895e+00\t-2.890126e-04\t9.765625e-04\n",
      "11\t2.816895e+00\t-2.890126e-04\t2.817383e+00\t6.941852e-03\t2.817139e+00\t3.325916e-03\t4.882812e-04\n",
      "12\t2.816895e+00\t-2.890126e-04\t2.817139e+00\t3.325916e-03\t2.817017e+00\t1.518326e-03\t2.441406e-04\n",
      "13\t2.816895e+00\t-2.890126e-04\t2.817017e+00\t1.518326e-03\t2.816956e+00\t6.146251e-04\t1.220703e-04\n",
      "14\t2.816895e+00\t-2.890126e-04\t2.816956e+00\t6.146251e-04\t2.816925e+00\t1.627984e-04\t6.103516e-05\n",
      "15\t2.816895e+00\t-2.890126e-04\t2.816925e+00\t1.627984e-04\t2.816910e+00\t-6.310904e-05\t3.051758e-05\n",
      "16\t2.816910e+00\t-6.310904e-05\t2.816925e+00\t1.627984e-04\t2.816917e+00\t4.984420e-05\t1.525879e-05\n",
      "17\t2.816910e+00\t-6.310904e-05\t2.816917e+00\t4.984420e-05\t2.816914e+00\t-6.632542e-06\t7.629395e-06\n",
      "18\t2.816914e+00\t-6.632542e-06\t2.816917e+00\t4.984420e-05\t2.816916e+00\t2.160580e-05\t3.814697e-06\n",
      "19\t2.816914e+00\t-6.632542e-06\t2.816916e+00\t2.160580e-05\t2.816915e+00\t7.486621e-06\t1.907349e-06\n",
      "20\t2.816914e+00\t-6.632542e-06\t2.816915e+00\t7.486621e-06\t2.816914e+00\t4.270376e-07\t9.536743e-07\n",
      "Número máximo de iterações atingido!\n"
     ]
    }
   ],
   "source": [
    "# Não modifique essa célula\n",
    "\"\"\"Verificando que a função bissecao retorna erro para entradas inválidas\"\"\"\n",
    "# Erro! A função não muda de sinal:\n",
    "assert bissecao(f,-2,-1,0.1,20) == (True, None)\n",
    "assert bissecao(f,1,2,0.1,20) == (True, None)\n",
    "# Erro! Número máximo de iterações atingido\n",
    "assert bissecao(f,2,3,0.0000001,20) == (True,2.8169140815734863)\n"
   ]
  },
  {
   "cell_type": "markdown",
   "metadata": {},
   "source": [
    "---\n",
    "\n",
    "## Parte B (5 pontos)\n",
    "\n",
    "Usando a sua função `bissecao`, encontre a raiz de $f2(x) = 5x^7-4x^6+x^5-2x^4+3x^2-3x-4$. Usando uma técnica de isolamento de raízes, defina os valores de a e b, tal que a raiz seja encontrada com no máximo 10 iterações para epsilon = 0.0001."
   ]
  },
  {
   "cell_type": "code",
   "execution_count": 6,
   "metadata": {
    "collapsed": true,
    "deletable": false,
    "nbgrader": {
     "checksum": "84cda6b25394ce4affc2098d11ac9fbf",
     "grade": false,
     "grade_id": "f2",
     "locked": false,
     "schema_version": 1,
     "solution": true
    }
   },
   "outputs": [],
   "source": [
    "def f2(x):\n",
    "    return 5*x**7 - 4*x**6 + x**5 - 2*x**4 + 3*x**2 - 3*x - 4\n"
   ]
  },
  {
   "cell_type": "markdown",
   "metadata": {},
   "source": [
    "f2(1) deve ser igual a -4. Tenha certeza de que implementou a função f2 corretamente. "
   ]
  },
  {
   "cell_type": "code",
   "execution_count": 7,
   "metadata": {},
   "outputs": [
    {
     "data": {
      "text/plain": [
       "-4"
      ]
     },
     "execution_count": 7,
     "metadata": {},
     "output_type": "execute_result"
    }
   ],
   "source": [
    "f2(1)"
   ]
  },
  {
   "cell_type": "code",
   "execution_count": 16,
   "metadata": {
    "deletable": false,
    "nbgrader": {
     "checksum": "2c86a4407cabff64aebe265e9e9cd53f",
     "grade": false,
     "grade_id": "correct_bissecao_f2",
     "locked": false,
     "schema_version": 1,
     "solution": true
    }
   },
   "outputs": [
    {
     "name": "stdout",
     "output_type": "stream",
     "text": [
      "k\t a\t\t fa\t\t b\t\t fb\t\t x\t\t fx\t\t intervalo\n",
      "-\t1.100000e+00\t-2.330348e+00\t1.200000e+00\t1.033088e+00\t1.150000e+00\t-9.212990e-01\t1.000000e-01\n",
      "1\t1.150000e+00\t-9.212990e-01\t1.200000e+00\t1.033088e+00\t1.175000e+00\t-2.134526e-02\t5.000000e-02\n",
      "2\t1.175000e+00\t-2.134526e-02\t1.200000e+00\t1.033088e+00\t1.187500e+00\t4.853260e-01\t2.500000e-02\n",
      "3\t1.175000e+00\t-2.134526e-02\t1.187500e+00\t4.853260e-01\t1.181250e+00\t2.270132e-01\t1.250000e-02\n",
      "4\t1.175000e+00\t-2.134526e-02\t1.181250e+00\t2.270132e-01\t1.178125e+00\t1.016091e-01\t6.250000e-03\n",
      "5\t1.175000e+00\t-2.134526e-02\t1.178125e+00\t1.016091e-01\t1.176562e+00\t3.982814e-02\t3.125000e-03\n",
      "6\t1.175000e+00\t-2.134526e-02\t1.176562e+00\t3.982814e-02\t1.175781e+00\t9.165793e-03\t1.562500e-03\n",
      "7\t1.175000e+00\t-2.134526e-02\t1.175781e+00\t9.165793e-03\t1.175391e+00\t-6.108608e-03\t7.812500e-04\n",
      "8\t1.175391e+00\t-6.108608e-03\t1.175781e+00\t9.165793e-03\t1.175586e+00\t1.523869e-03\t3.906250e-04\n",
      "9\t1.175391e+00\t-6.108608e-03\t1.175586e+00\t1.523869e-03\t1.175488e+00\t-2.293550e-03\t1.953125e-04\n",
      "10\t1.175488e+00\t-2.293550e-03\t1.175586e+00\t1.523869e-03\t1.175537e+00\t-3.851354e-04\t9.765625e-05\n",
      "Raíz encontrada: 1.175537e+00\n"
     ]
    }
   ],
   "source": [
    "maxIter = 10\n",
    "epsilon = 0.0001\n",
    "## Defina a e b abaixo e depois chame a sua função bissecao para f2\n",
    "## Mostre a raiz encontrada\n",
    "## Utilizando a tabela como técnica de isolamento de raízes, nota-se que a função muda de sinal entre 1 e 2, pois\n",
    "## testando a função com valores negativos o sinal continua negativo, mas para 2, a função fica poisitva. Mas, para\n",
    "## ser mais preciso, podemos diminuir ainda mais o intervalo. \n",
    "## a = 1 => f(a) = -4 ; a = 1.1 => f(a) = -2.3303484999999973 ; b = 1.2 => f(b) = 1.0330880000000011\n",
    "## A função já muda de sinal entre 1.1 e 1.2\n",
    "a = 1.1\n",
    "b = 1.2\n",
    "(houveErro, raiz) = bissecao(f2, a, b, epsilon, maxIter)\n",
    "if houveErro:\n",
    "    print(\"O método retornou um erro.\")\n",
    "if raiz is not None:\n",
    "    print(\"Raíz encontrada: %e\" % raiz)"
   ]
  },
  {
   "cell_type": "code",
   "execution_count": null,
   "metadata": {
    "collapsed": true,
    "deletable": false,
    "editable": false,
    "nbgrader": {
     "checksum": "676d0a479abf77662585dc1a7751f7c5",
     "grade": true,
     "grade_id": "test-bissecao-f2",
     "locked": true,
     "points": 5,
     "schema_version": 1,
     "solution": false
    }
   },
   "outputs": [],
   "source": [
    "## Verificação da sua resposta. Não modifique essa célula"
   ]
  }
 ],
 "metadata": {
  "kernelspec": {
   "display_name": "Python 3",
   "language": "python",
   "name": "python3"
  },
  "language_info": {
   "codemirror_mode": {
    "name": "ipython",
    "version": 3
   },
   "file_extension": ".py",
   "mimetype": "text/x-python",
   "name": "python",
   "nbconvert_exporter": "python",
   "pygments_lexer": "ipython3",
   "version": "3.6.2"
  }
 },
 "nbformat": 4,
 "nbformat_minor": 1
}
