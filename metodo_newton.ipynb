{
 "cells": [
  {
   "cell_type": "markdown",
   "metadata": {},
   "source": [
    "Antes de submeter esse arquivo, certifique-se de que tudo está funcionando conforme esperado. Para isso, **reinicie o Kernel** (na barra de menu, selecione Kernel$\\rightarrow$Restart) e então **execute todas as células** (na barra de menu, selecione Cell$\\rightarrow$Run All).\n",
    "\n",
    "Tenha certeza de substituir todos os lugares onde está escrito `SEU CODIGO AQUI` ou `SUA RESPOSTA AQUI` pelo seu código ou sua resposta, bem como preencher com o seu nome e a sua equipe nas variáveis abaixo:"
   ]
  },
  {
   "cell_type": "code",
   "execution_count": 10,
   "metadata": {
    "collapsed": true
   },
   "outputs": [],
   "source": [
   ]
  },
  {
   "cell_type": "markdown",
   "metadata": {},
   "source": [
    "---"
   ]
  },
  {
   "cell_type": "markdown",
   "metadata": {},
   "source": [
    "# Método de Newton\n",
    "Para essa parte do trabalho, usaremos o seguinte notebook jupyter:"
   ]
  },
  {
   "cell_type": "markdown",
   "metadata": {},
   "source": [
    "---\n",
    "## Parte A (15 pontos)\n",
    "\n",
    "Implemente o método de Newton, tal que ele retorne uma tupla contendo um booleano e a raiz."
   ]
  },
  {
   "cell_type": "code",
   "execution_count": 11,
   "metadata": {
    "collapsed": true,
    "deletable": false,
    "nbgrader": {
     "checksum": "72bd49b6c78e12ab249346f5a01f2f89",
     "grade": false,
     "grade_id": "newton",
     "locked": false,
     "schema_version": 1,
     "solution": true
    }
   },
   "outputs": [],
   "source": [
    "def newton(f, flin, x0, epsilon, iterMax):\n",
    "    \"\"\"Executa o método de Newton-Raphson para achar o zero de f  \n",
    "       a partir da derivada de f flin, aproximação inicial x0 \n",
    "       e tolerância epsilon.\n",
    "       Retorna uma tupla (houveErro, raiz), onde houveErro é booleano.\n",
    "    \"\"\"\n",
    "    k = 0\n",
    "    x1 = 0\n",
    "    if abs(f(x0)) <= epsilon :\n",
    "        return (False,x0)\n",
    "    print(\"k\\t x\\t\\t f(x)\")\n",
    "    print(\"%d\\t%e\\t%e\" %(k,x0,f(x0)))\n",
    "    while k != iterMax :\n",
    "        if flin(x0) != 0 :\n",
    "            x1 = x0 - f(x0)/flin(x0)  #Equação do método de Newton\n",
    "            print(\"%d\\t%e\\t%e\" %(k+1,x1,f(x1)))\n",
    "            if abs(f(x1)) <= epsilon :\n",
    "                return (False,x1)\n",
    "            x0 = x1\n",
    "            k += 1\n",
    "            if abs(flin(x1)) <= epsilon :\n",
    "                print(\"Erro! f'(x0) perto de 0, número máximo de iterações atingido\")\n",
    "                return (True,x1)\n",
    "        else :\n",
    "            print(\"Erro! f'(x0) = 0, divisão por zero\")\n",
    "            return (True,None)\n",
    "    print(\"Erro! Número máximo de iterações atingido\")\n",
    "    return (True,x1)"
   ]
  },
  {
   "cell_type": "markdown",
   "metadata": {},
   "source": [
    "Teste a sua função com o exemplo visto em sala: Compare o seu resultado com a tabela abaixo:\n",
    "```\n",
    "k\t      x\t\t     f(x)\n",
    "0\t5.000000e-01\t-1.375000e+00\n",
    "1\t3.333333e-01\t3.703704e-02\n",
    "2\t3.376068e-01\t1.834089e-05\n",
    "```"
   ]
  },
  {
   "cell_type": "code",
   "execution_count": 12,
   "metadata": {},
   "outputs": [
    {
     "name": "stdout",
     "output_type": "stream",
     "text": [
      "k\t x\t\t f(x)\n",
      "0\t5.000000e-01\t-1.375000e+00\n",
      "1\t3.333333e-01\t3.703704e-02\n",
      "2\t3.376068e-01\t1.834089e-05\n"
     ]
    }
   ],
   "source": [
    "def f(x):\n",
    "    return x**3 - 9*x + 3\n",
    "def flin(x):\n",
    "    return 3*x**2 -9\n",
    "x0 = 0.5\n",
    "epsilon = 0.0001\n",
    "maxIter = 20\n",
    "(houveErro, raiz) = newton(f,flin, x0,epsilon,maxIter)"
   ]
  },
  {
   "cell_type": "code",
   "execution_count": 13,
   "metadata": {
    "deletable": false,
    "editable": false,
    "nbgrader": {
     "checksum": "d28b3d6aafa7cf872d6b92c4169256e7",
     "grade": true,
     "grade_id": "correct_newton",
     "locked": true,
     "points": 10,
     "schema_version": 1,
     "solution": false
    }
   },
   "outputs": [
    {
     "name": "stdout",
     "output_type": "stream",
     "text": [
      "k\t x\t\t f(x)\n",
      "0\t-3.500000e+00\t-8.375000e+00\n",
      "1\t-3.198198e+00\t-9.288960e-01\n",
      "2\t-3.155363e+00\t-1.752597e-02\n",
      "3\t-3.154523e+00\t-6.675674e-06\n",
      "k\t x\t\t f(x)\n",
      "0\t2.500000e+00\t-3.875000e+00\n",
      "1\t2.897436e+00\t1.247442e+00\n",
      "2\t2.820364e+00\t5.117533e-02\n",
      "3\t2.816921e+00\t1.002622e-04\n",
      "4\t2.816914e+00\t3.875620e-10\n"
     ]
    }
   ],
   "source": [
    "# Não modifique essa célula\n",
    "\"\"\"Verificando que a função newton retorna a saída correta para várias entradas. Note que outros \n",
    "testes serão feitos durante a correção\"\"\"\n",
    "\n",
    "assert newton(f, flin, -3.5, 0.0001,3) == (False,-3.154523328824589)\n",
    "assert newton(f, flin, 2.5 ,0.00001,4) == (False,2.8169140527555467)\n"
   ]
  },
  {
   "cell_type": "code",
   "execution_count": 14,
   "metadata": {
    "deletable": false,
    "editable": false,
    "nbgrader": {
     "checksum": "071b7500d074cd794661d6acb09dae5c",
     "grade": true,
     "grade_id": "newton_invalid_input",
     "locked": true,
     "points": 5,
     "schema_version": 1,
     "solution": false
    }
   },
   "outputs": [
    {
     "name": "stdout",
     "output_type": "stream",
     "text": [
      "k\t x\t\t f(x)\n",
      "0\t-5.000000e-01\t-6.250000e+00\n",
      "Erro! f'(x0) = 0, divisão por zero\n",
      "k\t x\t\t f(x)\n",
      "0\t1.732000e+00\t-7.392305e+00\n",
      "1\t-1.399885e+04\t-2.743321e+12\n",
      "2\t-9.332564e+03\t-8.128358e+11\n",
      "3\t-6.221709e+03\t-2.408402e+11\n",
      "4\t-4.147807e+03\t-7.136007e+10\n",
      "5\t-2.765205e+03\t-2.114372e+10\n",
      "6\t-1.843471e+03\t-6.264804e+09\n",
      "7\t-1.228982e+03\t-1.856237e+09\n",
      "8\t-8.193226e+02\t-5.499954e+08\n",
      "9\t-5.462175e+02\t-1.629610e+08\n",
      "10\t-3.641487e+02\t-4.828439e+07\n",
      "11\t-2.427713e+02\t-1.430624e+07\n",
      "12\t-1.618558e+02\t-4.238724e+06\n",
      "13\t-1.079163e+02\t-1.255809e+06\n",
      "14\t-7.196279e+01\t-3.720190e+05\n",
      "15\t-4.800320e+01\t-1.101791e+05\n",
      "16\t-3.204428e+01\t-3.261283e+04\n",
      "17\t-2.142643e+01\t-9.640861e+03\n",
      "18\t-1.438043e+01\t-2.841406e+03\n",
      "19\t-9.732989e+00\t-8.314195e+02\n",
      "20\t-6.711768e+00\t-2.389446e+02\n",
      "Erro! Número máximo de iterações atingido\n",
      "k\t x\t\t f(x)\n",
      "0\t2.500000e+00\t-3.875000e+00\n",
      "1\t2.897436e+00\t1.247442e+00\n",
      "2\t2.820364e+00\t5.117533e-02\n",
      "3\t2.816921e+00\t1.002622e-04\n",
      "Erro! Número máximo de iterações atingido\n"
     ]
    }
   ],
   "source": [
    "# Não modifique essa célula\n",
    "\"\"\"Verificando que a função newton retorna erro para entradas inválidas\"\"\"\n",
    "# Erro! f'(x0) = 0, divisão por zero\n",
    "def ft(x):\n",
    "    return x**2+x-6\n",
    "def ftlin(x):\n",
    "    return 2*x +1\n",
    "assert newton(ft, ftlin, -1/2,0.1,20) == (True, None)\n",
    "# Erro! f'(x0) perto de 0, número máximo de iterações atingido\n",
    "assert newton(f, flin, 1.732,0.1,20) == (True, -6.711767508445506)\n",
    "# Erro! Número máximo de iterações atingido\n",
    "assert newton(f,flin, 2.5,0.0000001,3) == (True,2.8169208248794226)"
   ]
  },
  {
   "cell_type": "markdown",
   "metadata": {},
   "source": [
    "---\n",
    "## Parte B (5 pontos)\n",
    "\n",
    "Usando a sua função `newton`, encontre a raiz de $f2(x) = 5x^7-4x^6+x^5-2x^4+3x^2-3x-4$. Usando uma técnica de isolamento de raízes, defina o valor de x0, tal que a raiz seja encontrada com no **máximo 3 iterações** para epsilon = 0.0001."
   ]
  },
  {
   "cell_type": "code",
   "execution_count": 15,
   "metadata": {
    "collapsed": true,
    "deletable": false,
    "nbgrader": {
     "checksum": "50b8fcda80398d39acbda43a2bcdf369",
     "grade": false,
     "grade_id": "f2",
     "locked": false,
     "schema_version": 1,
     "solution": true
    }
   },
   "outputs": [],
   "source": [
    "def f2(x):\n",
    "    return 5*x**7 - 4*x**6 + x**5 -2*x**4 + 3*x**2 - 3*x - 4\n",
    "def f2lin(x):\n",
    "    return 35*x**6 - 24*x**5 + 5*x**4 + 6*x - 3"
   ]
  },
  {
   "cell_type": "markdown",
   "metadata": {},
   "source": [
    "f2(1) deve ser igual a -4. Tenha certeza de que implementou a função f2 corretamente. "
   ]
  },
  {
   "cell_type": "code",
   "execution_count": 16,
   "metadata": {},
   "outputs": [
    {
     "data": {
      "text/plain": [
       "-4"
      ]
     },
     "execution_count": 16,
     "metadata": {},
     "output_type": "execute_result"
    }
   ],
   "source": [
    "f2(1)"
   ]
  },
  {
   "cell_type": "code",
   "execution_count": 17,
   "metadata": {
    "deletable": false,
    "nbgrader": {
     "checksum": "42d52953a71e711280b598a662f5f1ab",
     "grade": false,
     "grade_id": "newton_f2",
     "locked": false,
     "schema_version": 1,
     "solution": true
    }
   },
   "outputs": [
    {
     "name": "stdout",
     "output_type": "stream",
     "text": [
      "k\t x\t\t f(x)\n",
      "0\t1.200000e+00\t1.033088e+00\n",
      "1\t1.182596e+00\t2.817741e-01\n",
      "2\t1.177387e+00\t7.236191e-02\n",
      "3\t1.176012e+00\t1.819596e-02\n",
      "Erro! Número máximo de iterações atingido\n",
      "(True, 1.1760117323035426)\n"
     ]
    }
   ],
   "source": [
    "maxIter = 3\n",
    "epsilon = 0.0001\n",
    "## Defina x0 abaixo e depois chame a sua função newton para f2\n",
    "## Mostre a raiz encontrada\n",
    "x0 = 1.2\n",
    "print(newton(f2,f2lin, x0,epsilon,maxIter))\n"
   ]
  },
  {
   "cell_type": "code",
   "execution_count": 18,
   "metadata": {
    "collapsed": true,
    "deletable": false,
    "editable": false,
    "nbgrader": {
     "checksum": "c78712d025bd51462cb00b1ec124806b",
     "grade": true,
     "grade_id": "test-newton_f2",
     "locked": true,
     "points": 5,
     "schema_version": 1,
     "solution": false
    }
   },
   "outputs": [],
   "source": [
    "## Verificação da sua resposta. Não modifique essa célula"
   ]
  }
 ],
 "metadata": {
  "kernelspec": {
   "display_name": "Python 3",
   "language": "python",
   "name": "python3"
  },
  "language_info": {
   "codemirror_mode": {
    "name": "ipython",
    "version": 3
   },
   "file_extension": ".py",
   "mimetype": "text/x-python",
   "name": "python",
   "nbconvert_exporter": "python",
   "pygments_lexer": "ipython3",
   "version": "3.5.1"
  }
 },
 "nbformat": 4,
 "nbformat_minor": 1
}
