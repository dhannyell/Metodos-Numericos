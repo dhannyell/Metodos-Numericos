{
 "cells": [
  {
   "cell_type": "markdown",
   "metadata": {},
   "source": [
    "Antes de submeter esse arquivo, certifique-se de que tudo está funcionando conforme esperado. Para isso, **reinicie o Kernel** (na barra de menu, selecione Kernel$\\rightarrow$Restart) e então **execute todas as células** (na barra de menu, selecione Cell$\\rightarrow$Run All).\n",
    "\n",
    "Tenha certeza de substituir todos os lugares onde está escrito `SEU CODIGO AQUI` ou `SUA RESPOSTA AQUI` pelo seu código ou sua resposta, bem como preencher com o seu nome e a sua equipe nas variáveis abaixo:"
   ]
  },
  {
   "cell_type": "code",
   "execution_count": 179,
   "metadata": {
    "collapsed": true
   },
   "outputs": [],
   "source": [
   ]
  },
  {
   "cell_type": "markdown",
   "metadata": {},
   "source": [
    "---"
   ]
  },
  {
   "cell_type": "markdown",
   "metadata": {},
   "source": [
    "# Método de Newton para Polinômios\n",
    "Para essa parte do trabalho, usaremos o seguinte notebook jupyter:"
   ]
  },
  {
   "cell_type": "markdown",
   "metadata": {},
   "source": [
    "---\n",
    "## Parte A (15 pontos)\n",
    "\n",
    "Implemente o método de Newton para polinômios, tal que ele retorne uma tupla contendo um booleano e a raiz."
   ]
  },
  {
   "cell_type": "code",
   "execution_count": 180,
   "metadata": {
    "collapsed": true,
    "deletable": false,
    "nbgrader": {
     "checksum": "b1349fa7e2c2743de9eec7a6e79c85a5",
     "grade": false,
     "grade_id": "newton",
     "locked": false,
     "schema_version": 1,
     "solution": true
    }
   },
   "outputs": [],
   "source": [
    "def newton_poli(a, x, epsilon, iterMax=50):\n",
    "    \"\"\"Executa o método de Newton-Raphson para polinômios para achar o zero  \n",
    "       do polinômio definido como coeficientes a, onde a = [a0, a1, ..., an].\n",
    "       São necessárias a aproximação inicial x e a tolerância epsilon. \n",
    "       O método executa no máximo iterMax iterações.\n",
    "       Retorna uma tupla (houveErro, raiz), onde houveErro é booleano.\n",
    "    \"\"\"\n",
    "    n = len(a)-1\n",
    "    print(\"k\\t x\\t\\t p(x)\")\n",
    "    k = 0\n",
    "    \n",
    "    while k <= iterMax:    \n",
    "        b = [1.0] * len(a)\n",
    "        c = [1.0] * n\n",
    "\n",
    "        i = n - 1\n",
    "        while i != 0:\n",
    "            b[i] = a[i] + b[i+1]*x\n",
    "            c[i-1] = b[i] + c[i]*x\n",
    "            i -= 1\n",
    "\n",
    "        b[0] = a[0] + b[1]*x\n",
    "   \n",
    "        print(\"%d\\t %e\\t %e\\t\" %(k, x, b[0]))\n",
    "\n",
    "        if abs(b[0]) <= epsilon:\n",
    "            return(False, x)\n",
    "        if abs(c[0]) == 0 :\n",
    "            print(\"Erro! c = 0, divisão por zero\")\n",
    "            return (True, None)\n",
    "        \n",
    "        x = x - b[0]/c[0]\n",
    "        k += 1\n",
    "\n",
    "    print(\"Erro! Número máximo de iterações atingido\")\n",
    "    return(True, x)"
   ]
  },
  {
   "cell_type": "markdown",
   "metadata": {},
   "source": [
    "Teste a sua função com o exemplo visto em sala: Compare o seu resultado com a tabela abaixo:\n",
    "```\n",
    "k\t      x\t\t     p(x)\n",
    "0\t5.000000e-01\t-1.375000e+00\n",
    "1\t3.333333e-01\t3.703704e-02\n",
    "2\t3.376068e-01\t1.834089e-05\n",
    "```"
   ]
  },
  {
   "cell_type": "code",
   "execution_count": 181,
   "metadata": {},
   "outputs": [
    {
     "name": "stdout",
     "output_type": "stream",
     "text": [
      "k\t x\t\t p(x)\n",
      "0\t 5.000000e-01\t -1.375000e+00\t\n",
      "1\t 3.333333e-01\t 3.703704e-02\t\n",
      "2\t 3.376068e-01\t 1.834089e-05\t\n"
     ]
    }
   ],
   "source": [
    "a = [3, -9, 0, 1]\n",
    "x0 = 0.5\n",
    "epsilon = 0.0001\n",
    "maxIter = 20\n",
    "(houveErro, raiz) = newton_poli(a, x0, epsilon, maxIter)"
   ]
  },
  {
   "cell_type": "code",
   "execution_count": 182,
   "metadata": {
    "deletable": false,
    "editable": false,
    "nbgrader": {
     "checksum": "4f4d12e8a9a7cf84fb507a2ec348be5f",
     "grade": true,
     "grade_id": "correct_newton",
     "locked": true,
     "points": 10,
     "schema_version": 1,
     "solution": false
    }
   },
   "outputs": [
    {
     "name": "stdout",
     "output_type": "stream",
     "text": [
      "k\t x\t\t p(x)\n",
      "0\t -3.500000e+00\t -8.375000e+00\t\n",
      "1\t -3.198198e+00\t -9.288960e-01\t\n",
      "2\t -3.155363e+00\t -1.752597e-02\t\n",
      "3\t -3.154523e+00\t -6.675674e-06\t\n",
      "k\t x\t\t p(x)\n",
      "0\t 2.500000e+00\t -3.875000e+00\t\n",
      "1\t 2.897436e+00\t 1.247442e+00\t\n",
      "2\t 2.820364e+00\t 5.117533e-02\t\n",
      "3\t 2.816921e+00\t 1.002622e-04\t\n",
      "4\t 2.816914e+00\t 3.875633e-10\t\n"
     ]
    }
   ],
   "source": [
    "# Não modifique essa célula\n",
    "\"\"\"Verificando que a função newton retorna a saída correta para várias entradas. Note que outros \n",
    "testes serão feitos durante a correção\"\"\"\n",
    "\n",
    "assert newton_poli(a, -3.5, 0.0001,3) == (False, -3.154523328824589)\n",
    "assert newton_poli(a, 2.5 ,0.00001,4) == (False, 2.8169140527555467)\n"
   ]
  },
  {
   "cell_type": "code",
   "execution_count": 183,
   "metadata": {
    "deletable": false,
    "editable": false,
    "nbgrader": {
     "checksum": "082aa1ac9062f2b5751a832adeaecbd0",
     "grade": true,
     "grade_id": "newton_invalid_input",
     "locked": true,
     "points": 5,
     "schema_version": 1,
     "solution": false
    }
   },
   "outputs": [
    {
     "name": "stdout",
     "output_type": "stream",
     "text": [
      "k\t x\t\t p(x)\n",
      "0\t -5.000000e-01\t -6.250000e+00\t\n",
      "Erro! c = 0, divisão por zero\n",
      "k\t x\t\t p(x)\n",
      "0\t 1.732000e+00\t -7.392305e+00\t\n",
      "1\t -1.399885e+04\t -2.743321e+12\t\n",
      "2\t -9.332564e+03\t -8.128358e+11\t\n",
      "3\t -6.221709e+03\t -2.408402e+11\t\n",
      "4\t -4.147807e+03\t -7.136007e+10\t\n",
      "5\t -2.765205e+03\t -2.114372e+10\t\n",
      "6\t -1.843471e+03\t -6.264804e+09\t\n",
      "7\t -1.228982e+03\t -1.856237e+09\t\n",
      "8\t -8.193226e+02\t -5.499954e+08\t\n",
      "9\t -5.462175e+02\t -1.629610e+08\t\n",
      "10\t -3.641487e+02\t -4.828439e+07\t\n",
      "11\t -2.427713e+02\t -1.430624e+07\t\n",
      "12\t -1.618558e+02\t -4.238724e+06\t\n",
      "13\t -1.079163e+02\t -1.255809e+06\t\n",
      "14\t -7.196279e+01\t -3.720190e+05\t\n",
      "15\t -4.800320e+01\t -1.101791e+05\t\n",
      "16\t -3.204428e+01\t -3.261283e+04\t\n",
      "17\t -2.142643e+01\t -9.640861e+03\t\n",
      "18\t -1.438043e+01\t -2.841406e+03\t\n",
      "19\t -9.732989e+00\t -8.314195e+02\t\n",
      "20\t -6.711768e+00\t -2.389446e+02\t\n",
      "Erro! Número máximo de iterações atingido\n",
      "k\t x\t\t p(x)\n",
      "0\t 2.500000e+00\t -3.875000e+00\t\n",
      "1\t 2.897436e+00\t 1.247442e+00\t\n",
      "2\t 2.820364e+00\t 5.117533e-02\t\n",
      "3\t 2.816921e+00\t 1.002622e-04\t\n",
      "Erro! Número máximo de iterações atingido\n"
     ]
    }
   ],
   "source": [
    "# Não modifique essa célula\n",
    "\"\"\"Verificando que a função newton retorna erro para entradas inválidas\"\"\"\n",
    "# Erro! c = 0, divisão por zero\n",
    "at = [-6, 1, 1]\n",
    "assert newton_poli(at, -1/2,0.1,20) == (True, None)\n",
    "# Erro! c perto de 0, número máximo de iterações atingido\n",
    "assert newton_poli(a, 1.732,0.1,20) == (True, -4.817538586845097)\n",
    "# Erro! Número máximo de iterações atingido\n",
    "assert newton_poli(a, 2.5,0.0000001,3) == (True, 2.8169140527555467)"
   ]
  },
  {
   "cell_type": "markdown",
   "metadata": {},
   "source": [
    "---\n",
    "## Parte B (5 pontos)\n",
    "\n",
    "Usando a sua função `newton`, encontre a raiz de $f2(x) = 5x^7-4x^6+x^5-2x^4+3x^2-3x-4$. Usando uma técnica de isolamento de raízes, defina o valor de x0, tal que a raiz seja encontrada com no **máximo 3 iterações** para epsilon = 0.0001."
   ]
  },
  {
   "cell_type": "code",
   "execution_count": 184,
   "metadata": {
    "deletable": false,
    "nbgrader": {
     "checksum": "fbeb197a98bcad3f199f59e5019920a6",
     "grade": false,
     "grade_id": "newton_f2",
     "locked": false,
     "schema_version": 1,
     "solution": true
    }
   },
   "outputs": [
    {
     "name": "stdout",
     "output_type": "stream",
     "text": [
      "k\t x\t\t p(x)\n",
      "0\t 1.200000e+00\t -1.162970e+01\t\n",
      "1\t 7.168402e-01\t -5.703046e+00\t\n",
      "2\t -5.635818e-01\t -6.380094e-01\t\n",
      "3\t -6.197341e-01\t 5.728900e-02\t\n",
      "Erro! Número máximo de iterações atingido\n",
      "(True, -0.6154821884518248)\n"
     ]
    }
   ],
   "source": [
    "maxIter = 3\n",
    "epsilon = 0.0001\n",
    "## Defina x0 e os coeficientes de f2 como a variável a abaixo e depois chame a sua função newton_poli\n",
    "## Mostre a raiz encontrada\n",
    "x0 = 1.2\n",
    "a = [-4, -3, 3, -2, 1, -4, 5]\n",
    "print(newton_poli(a, x0, epsilon, maxIter))"
   ]
  },
  {
   "cell_type": "code",
   "execution_count": 185,
   "metadata": {
    "collapsed": true,
    "deletable": false,
    "editable": false,
    "nbgrader": {
     "checksum": "c78712d025bd51462cb00b1ec124806b",
     "grade": true,
     "grade_id": "test-newton_f2",
     "locked": true,
     "points": 5,
     "schema_version": 1,
     "solution": false
    }
   },
   "outputs": [],
   "source": [
    "## Verificação da sua resposta. Não modifique essa célula"
   ]
  }
 ],
 "metadata": {
  "kernelspec": {
   "display_name": "Python 3",
   "language": "python",
   "name": "python3"
  },
  "language_info": {
   "codemirror_mode": {
    "name": "ipython",
    "version": 3
   },
   "file_extension": ".py",
   "mimetype": "text/x-python",
   "name": "python",
   "nbconvert_exporter": "python",
   "pygments_lexer": "ipython3",
   "version": "3.5.1"
  }
 },
 "nbformat": 4,
 "nbformat_minor": 1
}
